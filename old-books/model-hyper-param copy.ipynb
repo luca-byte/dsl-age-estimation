{
 "cells": [
  {
   "cell_type": "code",
   "execution_count": 1,
   "metadata": {},
   "outputs": [],
   "source": [
    "from sklearn.ensemble import RandomForestRegressor\n",
    "from sklearn.tree import DecisionTreeRegressor\n",
    "from sklearn.linear_model import LinearRegression, Lasso, Ridge\n",
    "from sklearn.svm import SVR\n",
    "from sklearn.neighbors import KNeighborsRegressor\n",
    "from sklearn.neural_network import MLPRegressor\n",
    "from sklearn.model_selection import cross_val_score\n",
    "from sklearn.pipeline import make_pipeline\n",
    "from sklearn.preprocessing import StandardScaler\n",
    "from sklearn.pipeline import Pipeline\n",
    "from sklearn.model_selection import GridSearchCV\n",
    "from sklearn.feature_selection import RFE\n",
    "from sklearn.preprocessing import PolynomialFeatures\n",
    "from sklearn.metrics import root_mean_squared_error\n",
    "from sklearn.model_selection import StratifiedKFold\n",
    "import numpy as np\n",
    "import pandas as pd"
   ]
  },
  {
   "cell_type": "code",
   "execution_count": 2,
   "metadata": {},
   "outputs": [],
   "source": [
    "df_dev = pd.read_csv('proc/development_processed.csv').set_index('Id')\n",
    "df_eval = pd.read_csv('proc/evaluation_processed.csv').set_index('Id')"
   ]
  },
  {
   "cell_type": "code",
   "execution_count": 3,
   "metadata": {},
   "outputs": [],
   "source": [
    "# Feature selection: we remove features which have been used to extract other features\n",
    "# these features are all dependent on the duration of the speech, which\n",
    "# is irrelevant for the age estimation task\n",
    "df_dev.drop(columns=['duration', 'num_characters', 'num_words', 'num_pauses'], inplace=True)\n",
    "df_eval.drop(columns=['duration', 'num_characters', 'num_words', 'num_pauses'], inplace=True)"
   ]
  },
  {
   "cell_type": "code",
   "execution_count": 4,
   "metadata": {},
   "outputs": [],
   "source": [
    "qt = pd.cut(df_dev['age'], bins=range(0,105,5), labels=False, right=False)\n",
    "X = df_dev.drop(columns=['age'])\n",
    "y = df_dev['age']"
   ]
  },
  {
   "cell_type": "code",
   "execution_count": 8,
   "metadata": {},
   "outputs": [
    {
     "name": "stderr",
     "output_type": "stream",
     "text": [
      "c:\\Users\\lucad\\miniforge3\\envs\\dsl\\Lib\\site-packages\\sklearn\\model_selection\\_split.py:776: UserWarning: The least populated class in y has only 1 members, which is less than n_splits=5.\n",
      "  warnings.warn(\n",
      "c:\\Users\\lucad\\miniforge3\\envs\\dsl\\Lib\\site-packages\\sklearn\\model_selection\\_split.py:776: UserWarning: The least populated class in y has only 1 members, which is less than n_splits=5.\n",
      "  warnings.warn(\n"
     ]
    }
   ],
   "source": [
    "skf = StratifiedKFold(n_splits=5, shuffle=True)\n",
    "\n",
    "pipes = [\n",
    "    Pipeline([\n",
    "        ('scaler', StandardScaler()),\n",
    "        ('reg', SVR(C=20, epsilon=5,  gamma='scale', kernel='rbf'))\n",
    "    ]),\n",
    "    Pipeline([\n",
    "    ('scaler', StandardScaler()),\n",
    "    ('rfe', RFE(Ridge(),  n_features_to_select=0.28)),\n",
    "    ('poly', PolynomialFeatures(2)),\n",
    "    ('reg', Ridge(alpha=1000))   \n",
    "])]\n",
    "\n",
    "rl = []\n",
    "\n",
    "for pipe, name in zip(pipes, ['SVR', 'Ridge']):\n",
    "    rmses_per_class = []\n",
    "    rmses = []\n",
    "\n",
    "    for train_index, test_index in skf.split(X, qt):\n",
    "        X_train, X_test = X.iloc[train_index], X.iloc[test_index]\n",
    "        y_train, y_test = y.iloc[train_index], y.iloc[test_index]\n",
    "        z_train, z_test = qt.iloc[train_index], qt.iloc[test_index]\n",
    "\n",
    "        pipe.fit(X_train, y_train)\n",
    "        y_pred = pipe.predict(X_test)\n",
    "\n",
    "        # Calculate RMSE for each class in y_test\n",
    "        rmse_per_class = {}\n",
    "        for cls in z_test.unique():\n",
    "            idx = z_test == cls\n",
    "            rmse_per_class[cls] = root_mean_squared_error(y_test[idx], y_pred[idx])\n",
    "        \n",
    "        rmses_per_class.append(rmse_per_class)\n",
    "\n",
    "        # Calculate the overall RMSE\n",
    "        rmse = root_mean_squared_error(y_test, y_pred)\n",
    "        rmses.append(rmse)\n",
    "\n",
    "    rmse_per_class = {cls: sum([d.get(cls, 0) for d in rmses_per_class])/5 for cls in z_test.unique()}\n",
    "    rmse = sum(rmses)/5\n",
    "    res = {'Model': name, 'RMSE': rmse} | {f'[{cls*5}-{5*(cls+1)}]': rmse_per_class[cls] for cls in z_test.unique()}\n",
    "    rl.append(res)\n",
    "\n",
    "df_res = pd.DataFrame(rl)\n",
    "    \n",
    "    "
   ]
  },
  {
   "cell_type": "code",
   "execution_count": 10,
   "metadata": {},
   "outputs": [
    {
     "data": {
      "text/html": [
       "<div>\n",
       "<style scoped>\n",
       "    .dataframe tbody tr th:only-of-type {\n",
       "        vertical-align: middle;\n",
       "    }\n",
       "\n",
       "    .dataframe tbody tr th {\n",
       "        vertical-align: top;\n",
       "    }\n",
       "\n",
       "    .dataframe thead th {\n",
       "        text-align: right;\n",
       "    }\n",
       "</style>\n",
       "<table border=\"1\" class=\"dataframe\">\n",
       "  <thead>\n",
       "    <tr style=\"text-align: right;\">\n",
       "      <th></th>\n",
       "      <th>RMSE</th>\n",
       "      <th>[5-10]</th>\n",
       "      <th>[15-20]</th>\n",
       "      <th>[20-25]</th>\n",
       "      <th>[25-30]</th>\n",
       "      <th>[30-35]</th>\n",
       "      <th>[35-40]</th>\n",
       "      <th>[40-45]</th>\n",
       "      <th>[45-50]</th>\n",
       "      <th>[50-55]</th>\n",
       "      <th>[55-60]</th>\n",
       "      <th>[60-65]</th>\n",
       "      <th>[65-70]</th>\n",
       "      <th>[70-75]</th>\n",
       "      <th>[75-80]</th>\n",
       "      <th>[80-85]</th>\n",
       "      <th>[85-90]</th>\n",
       "    </tr>\n",
       "    <tr>\n",
       "      <th>Model</th>\n",
       "      <th></th>\n",
       "      <th></th>\n",
       "      <th></th>\n",
       "      <th></th>\n",
       "      <th></th>\n",
       "      <th></th>\n",
       "      <th></th>\n",
       "      <th></th>\n",
       "      <th></th>\n",
       "      <th></th>\n",
       "      <th></th>\n",
       "      <th></th>\n",
       "      <th></th>\n",
       "      <th></th>\n",
       "      <th></th>\n",
       "      <th></th>\n",
       "      <th></th>\n",
       "    </tr>\n",
       "  </thead>\n",
       "  <tbody>\n",
       "    <tr>\n",
       "      <th>SVR</th>\n",
       "      <td>10.161987</td>\n",
       "      <td>10.644255</td>\n",
       "      <td>6.607078</td>\n",
       "      <td>6.724343</td>\n",
       "      <td>6.224813</td>\n",
       "      <td>6.569557</td>\n",
       "      <td>7.655529</td>\n",
       "      <td>10.140768</td>\n",
       "      <td>13.361843</td>\n",
       "      <td>16.628728</td>\n",
       "      <td>21.110863</td>\n",
       "      <td>24.645968</td>\n",
       "      <td>28.599900</td>\n",
       "      <td>31.528475</td>\n",
       "      <td>37.81450</td>\n",
       "      <td>42.938424</td>\n",
       "      <td>33.912072</td>\n",
       "    </tr>\n",
       "    <tr>\n",
       "      <th>Ridge</th>\n",
       "      <td>10.256088</td>\n",
       "      <td>12.300593</td>\n",
       "      <td>6.760375</td>\n",
       "      <td>7.074073</td>\n",
       "      <td>6.479067</td>\n",
       "      <td>6.248012</td>\n",
       "      <td>8.028855</td>\n",
       "      <td>10.057154</td>\n",
       "      <td>13.390327</td>\n",
       "      <td>16.545282</td>\n",
       "      <td>21.321620</td>\n",
       "      <td>24.399376</td>\n",
       "      <td>27.737752</td>\n",
       "      <td>32.294782</td>\n",
       "      <td>37.50958</td>\n",
       "      <td>42.305518</td>\n",
       "      <td>31.680814</td>\n",
       "    </tr>\n",
       "  </tbody>\n",
       "</table>\n",
       "</div>"
      ],
      "text/plain": [
       "            RMSE     [5-10]   [15-20]   [20-25]   [25-30]   [30-35]   [35-40]  \\\n",
       "Model                                                                           \n",
       "SVR    10.161987  10.644255  6.607078  6.724343  6.224813  6.569557  7.655529   \n",
       "Ridge  10.256088  12.300593  6.760375  7.074073  6.479067  6.248012  8.028855   \n",
       "\n",
       "         [40-45]    [45-50]    [50-55]    [55-60]    [60-65]    [65-70]  \\\n",
       "Model                                                                     \n",
       "SVR    10.140768  13.361843  16.628728  21.110863  24.645968  28.599900   \n",
       "Ridge  10.057154  13.390327  16.545282  21.321620  24.399376  27.737752   \n",
       "\n",
       "         [70-75]   [75-80]    [80-85]    [85-90]  \n",
       "Model                                             \n",
       "SVR    31.528475  37.81450  42.938424  33.912072  \n",
       "Ridge  32.294782  37.50958  42.305518  31.680814  "
      ]
     },
     "execution_count": 10,
     "metadata": {},
     "output_type": "execute_result"
    }
   ],
   "source": [
    "cols = ['Model', 'RMSE'] + sorted([col for col in df_res.columns if col.startswith('[')], key=lambda x: int(x.strip('[]').split('-')[0]))\n",
    "df_res = df_res[cols]\n",
    "df_res.set_index('Model', inplace=True)\n",
    "df_res"
   ]
  },
  {
   "cell_type": "code",
   "execution_count": 12,
   "metadata": {},
   "outputs": [
    {
     "name": "stdout",
     "output_type": "stream",
     "text": [
      "\\begin{tabular}{lrrrrrrrrrrrrrrrrr}\n",
      "\\toprule\n",
      " & RMSE & [5-10] & [15-20] & [20-25] & [25-30] & [30-35] & [35-40] & [40-45] & [45-50] & [50-55] & [55-60] & [60-65] & [65-70] & [70-75] & [75-80] & [80-85] & [85-90] \\\\\n",
      "Model &  &  &  &  &  &  &  &  &  &  &  &  &  &  &  &  &  \\\\\n",
      "\\midrule\n",
      "SVR & 10.162 & 10.644 & 6.607 & 6.724 & 6.225 & 6.570 & 7.656 & 10.141 & 13.362 & 16.629 & 21.111 & 24.646 & 28.600 & 31.528 & 37.815 & 42.938 & 33.912 \\\\\n",
      "Ridge & 10.256 & 12.301 & 6.760 & 7.074 & 6.479 & 6.248 & 8.029 & 10.057 & 13.390 & 16.545 & 21.322 & 24.399 & 27.738 & 32.295 & 37.510 & 42.306 & 31.681 \\\\\n",
      "\\bottomrule\n",
      "\\end{tabular}\n",
      "\n"
     ]
    },
    {
     "ename": "",
     "evalue": "",
     "output_type": "error",
     "traceback": [
      "\u001b[1;31mSi è verificato un arresto anomalo del Kernel durante l'esecuzione del codice nella cella attiva o in una cella precedente. \n",
      "\u001b[1;31mEsaminare il codice nelle celle per identificare una possibile causa dell'errore. \n",
      "\u001b[1;31mPer altre informazioni, fare clic<a href='https://aka.ms/vscodeJupyterKernelCrash'>qui</a>. \n",
      "\u001b[1;31mPer ulteriori dettagli, visualizzare Jupyter <a href='command:jupyter.viewOutput'>log</a>."
     ]
    }
   ],
   "source": [
    "print(df_res.to_latex(float_format=\"%.3f\"))"
   ]
  },
  {
   "cell_type": "markdown",
   "metadata": {},
   "source": [
    "\\begin{table}[h]\n",
    "\\centering\n",
    "\\caption{Best hyperparameter configurations and relative RMSE scores}\n",
    "\\label{tab:configuration}\n",
    "\\begin{tabular}{lrrrrrrrr}\n",
    "Model& [15-20] & [20-25] & [25-30] & [30-35] & [35-40] & [40-45] & [45-50]  \\\\ \\hline\n",
    "SVR & 6.607 & 6.724 & 6.225 & 6.570 & 7.656 & 10.141 & 13.362  \\\\\n",
    "Ridge & 6.760 & 7.074 & 6.479 & 6.248 & 8.029 & 10.057 & 13.390 \\\\ \\hline\n",
    "Model & [50-55] & [55-60] & [60-65] & [65-70] & [70-75] & [75-80] & [80-85] \\\\ \\hline\n",
    "SVR & 16.629 & 21.111 & 24.646 & 28.600 & 31.528 & 37.815 & 42.938 \\\\\n",
    "Ridge & 16.545 & 21.322 & 24.399 & 27.738 & 32.295 & 37.510 & 42.306 \n",
    "\\end{tabular}\n",
    "\\end{table}"
   ]
  },
  {
   "cell_type": "markdown",
   "metadata": {},
   "source": [
    "### SVR"
   ]
  },
  {
   "cell_type": "code",
   "execution_count": 9,
   "metadata": {},
   "outputs": [
    {
     "name": "stdout",
     "output_type": "stream",
     "text": [
      "{'reg__C': 20, 'reg__epsilon': 5, 'reg__gamma': 'scale', 'reg__kernel': 'rbf'}\n",
      "-10.103415022016922\n",
      "Pipeline(steps=[('scaler', StandardScaler()), ('reg', SVR(C=20, epsilon=5))])\n"
     ]
    }
   ],
   "source": [
    "pipe = Pipeline([\n",
    "    ('scaler', StandardScaler()),\n",
    "    ('reg', SVR())\n",
    "])\n",
    "\n",
    "param_grid = {\n",
    "    'reg__kernel': ['rbf'],\n",
    "    'reg__epsilon': [0.1, 0.5, 1, 2, 5, 10],\n",
    "    'reg__C': [5, 10, 20, 50, 100, 200, 1000],\n",
    "    'reg__gamma': ['scale', 'auto']\n",
    "}\n",
    "\n",
    "grid = GridSearchCV(pipe, param_grid, cv=5, scoring='neg_root_mean_squared_error', n_jobs=-1)\n",
    "grid.fit(X, y)\n",
    "\n",
    "print(grid.best_params_)\n",
    "print(grid.best_score_)\n",
    "print(grid.best_estimator_)\n",
    "\n",
    "res.append({'Regressor': 'SVR', 'Score': -grid.best_score_, 'Params': grid.best_params_})"
   ]
  },
  {
   "cell_type": "code",
   "execution_count": 10,
   "metadata": {},
   "outputs": [],
   "source": [
    "reg = grid.best_estimator_\n",
    "reg.fit(X, y)\n",
    "y_pred = reg.predict(df_eval)\n",
    "\n",
    "df_out = pd.DataFrame(y_pred, index=df_eval.index, columns=['Predicted'])\n",
    "df_out.to_csv('out/svr.csv')"
   ]
  },
  {
   "cell_type": "markdown",
   "metadata": {},
   "source": [
    "**Score**: 9.311 using {'reg__C': 20, 'reg__epsilon': 5, 'reg__gamma': 'scale', 'reg__kernel': 'rbf'}"
   ]
  }
 ],
 "metadata": {
  "kernelspec": {
   "display_name": "dsl",
   "language": "python",
   "name": "python3"
  },
  "language_info": {
   "codemirror_mode": {
    "name": "ipython",
    "version": 3
   },
   "file_extension": ".py",
   "mimetype": "text/x-python",
   "name": "python",
   "nbconvert_exporter": "python",
   "pygments_lexer": "ipython3",
   "version": "3.12.7"
  }
 },
 "nbformat": 4,
 "nbformat_minor": 2
}
