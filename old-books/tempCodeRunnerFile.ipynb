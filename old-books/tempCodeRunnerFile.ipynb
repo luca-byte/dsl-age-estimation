df_dev["tempo"] = df_dev["tempo"].apply(lambda x: 1/x)
df_eval["tempo"] = df_eval["tempo"].apply(lambda x: 1/x)

df_dev['num_pauses'] = df_dev['num_pauses'].apply(np.log)
df_eval['num_pauses'] = df_eval['num_pauses'].apply(np.log)

df_dev['silence_duration'] = df_dev['silence_duration'].apply(np.log)
df_eval['silence_duration'] = df_eval['silence_duration'].apply(np.log)