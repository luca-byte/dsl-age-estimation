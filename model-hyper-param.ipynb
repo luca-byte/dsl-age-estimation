{
 "cells": [
  {
   "cell_type": "code",
   "execution_count": 1,
   "metadata": {},
   "outputs": [],
   "source": [
    "from sklearn.ensemble import RandomForestRegressor\n",
    "from sklearn.tree import DecisionTreeRegressor\n",
    "from sklearn.linear_model import LinearRegression, Lasso, Ridge\n",
    "from sklearn.svm import SVR\n",
    "from sklearn.neighbors import KNeighborsRegressor\n",
    "from sklearn.neural_network import MLPRegressor\n",
    "from sklearn.model_selection import cross_val_score\n",
    "from sklearn.pipeline import make_pipeline\n",
    "from sklearn.preprocessing import StandardScaler\n",
    "from sklearn.pipeline import Pipeline\n",
    "from sklearn.model_selection import GridSearchCV\n",
    "from sklearn.feature_selection import RFE\n",
    "from sklearn.preprocessing import PolynomialFeatures\n",
    "from sklearn.metrics import root_mean_squared_error\n",
    "import numpy as np\n",
    "import pandas as pd"
   ]
  },
  {
   "cell_type": "code",
   "execution_count": 2,
   "metadata": {},
   "outputs": [],
   "source": [
    "df_dev = pd.read_csv('proc/development_processed.csv').set_index('Id')\n",
    "df_eval = pd.read_csv('proc/evaluation_processed.csv').set_index('Id')"
   ]
  },
  {
   "cell_type": "code",
   "execution_count": 3,
   "metadata": {},
   "outputs": [],
   "source": [
    "# Feature selection: we remove features which have been used to extract other features\n",
    "# these features are all dependent on the duration of the speech, which\n",
    "# is irrelevant for the age estimation task\n",
    "df_dev.drop(columns=['duration', 'num_characters', 'num_words', 'num_pauses'], inplace=True)\n",
    "df_eval.drop(columns=['duration', 'num_characters', 'num_words', 'num_pauses'], inplace=True)"
   ]
  },
  {
   "cell_type": "code",
   "execution_count": 4,
   "metadata": {},
   "outputs": [],
   "source": [
    "df_dev = df_dev.sample(frac=1).reset_index(drop=True)\n",
    "X = df_dev.drop(columns=['age'])\n",
    "y = df_dev['age']"
   ]
  },
  {
   "cell_type": "code",
   "execution_count": 5,
   "metadata": {},
   "outputs": [
    {
     "data": {
      "text/html": [
       "<div>\n",
       "<style scoped>\n",
       "    .dataframe tbody tr th:only-of-type {\n",
       "        vertical-align: middle;\n",
       "    }\n",
       "\n",
       "    .dataframe tbody tr th {\n",
       "        vertical-align: top;\n",
       "    }\n",
       "\n",
       "    .dataframe thead th {\n",
       "        text-align: right;\n",
       "    }\n",
       "</style>\n",
       "<table border=\"1\" class=\"dataframe\">\n",
       "  <thead>\n",
       "    <tr style=\"text-align: right;\">\n",
       "      <th></th>\n",
       "      <th>Score</th>\n",
       "    </tr>\n",
       "    <tr>\n",
       "      <th>Regressor</th>\n",
       "      <th></th>\n",
       "    </tr>\n",
       "  </thead>\n",
       "  <tbody>\n",
       "    <tr>\n",
       "      <th>LinearRegression</th>\n",
       "      <td>10.485246</td>\n",
       "    </tr>\n",
       "    <tr>\n",
       "      <th>Lasso</th>\n",
       "      <td>10.819245</td>\n",
       "    </tr>\n",
       "    <tr>\n",
       "      <th>Ridge</th>\n",
       "      <td>10.483861</td>\n",
       "    </tr>\n",
       "    <tr>\n",
       "      <th>RandomForestRegressor</th>\n",
       "      <td>10.365455</td>\n",
       "    </tr>\n",
       "    <tr>\n",
       "      <th>DecisionTreeRegressor</th>\n",
       "      <td>14.983089</td>\n",
       "    </tr>\n",
       "    <tr>\n",
       "      <th>SVR</th>\n",
       "      <td>11.161276</td>\n",
       "    </tr>\n",
       "    <tr>\n",
       "      <th>KNeighborsRegressor</th>\n",
       "      <td>10.999232</td>\n",
       "    </tr>\n",
       "    <tr>\n",
       "      <th>MLPRegressor</th>\n",
       "      <td>10.340415</td>\n",
       "    </tr>\n",
       "    <tr>\n",
       "      <th>Mean</th>\n",
       "      <td>13.091083</td>\n",
       "    </tr>\n",
       "    <tr>\n",
       "      <th>Median</th>\n",
       "      <td>13.977330</td>\n",
       "    </tr>\n",
       "  </tbody>\n",
       "</table>\n",
       "</div>"
      ],
      "text/plain": [
       "                           Score\n",
       "Regressor                       \n",
       "LinearRegression       10.485246\n",
       "Lasso                  10.819245\n",
       "Ridge                  10.483861\n",
       "RandomForestRegressor  10.365455\n",
       "DecisionTreeRegressor  14.983089\n",
       "SVR                    11.161276\n",
       "KNeighborsRegressor    10.999232\n",
       "MLPRegressor           10.340415\n",
       "Mean                   13.091083\n",
       "Median                 13.977330"
      ]
     },
     "metadata": {},
     "output_type": "display_data"
    }
   ],
   "source": [
    "results = []\n",
    "mean_age = y.mean()\n",
    "median_age = y.median()\n",
    "\n",
    "for reg in [LinearRegression(), Lasso(), Ridge(), RandomForestRegressor(), DecisionTreeRegressor(), SVR(), KNeighborsRegressor(), MLPRegressor()]:\n",
    "    score = -cross_val_score(make_pipeline(StandardScaler(), reg), X, y, cv=5, scoring='neg_root_mean_squared_error', n_jobs=-1)\n",
    "    results.append({'Regressor': reg.__class__.__name__, 'Score': score.mean()})\n",
    "\n",
    "results.append({'Regressor': 'Mean', 'Score': root_mean_squared_error(y, np.full(y.shape, mean_age))})\n",
    "results.append({'Regressor': 'Median', 'Score': root_mean_squared_error(y, np.full(y.shape, median_age))})\n",
    "\n",
    "df_results = pd.DataFrame(results).set_index('Regressor')\n",
    "\n",
    "display(df_results)"
   ]
  },
  {
   "cell_type": "code",
   "execution_count": 6,
   "metadata": {},
   "outputs": [],
   "source": [
    "for reg in [LinearRegression(), Lasso(), Ridge(), RandomForestRegressor(), DecisionTreeRegressor(), SVR(), KNeighborsRegressor(), MLPRegressor()]:\n",
    "    reg.fit(X, y)\n",
    "    y_pred = reg.predict(df_eval)\n",
    "    \n",
    "    df_out = pd.DataFrame(y_pred, index=df_eval.index, columns=['Predicted'])\n",
    "    model_name = reg.__class__.__name__.lower()\n",
    "    df_out.to_csv(f'out/baseline/{model_name}.csv', index_label='Id')\n",
    "\n",
    "\n",
    "df_out_mean = pd.DataFrame([mean_age] * len(df_eval), index=df_eval.index, columns=['Predicted'])\n",
    "df_out_mean.to_csv('out/baseline/mean_age.csv', index_label='Id')\n",
    "\n",
    "df_out_median = pd.DataFrame([median_age] * len(df_eval), index=df_eval.index, columns=['Predicted'])\n",
    "df_out_median.to_csv('out/baseline/median_age.csv', index_label='Id')"
   ]
  },
  {
   "cell_type": "code",
   "execution_count": 7,
   "metadata": {},
   "outputs": [
    {
     "data": {
      "text/html": [
       "<div>\n",
       "<style scoped>\n",
       "    .dataframe tbody tr th:only-of-type {\n",
       "        vertical-align: middle;\n",
       "    }\n",
       "\n",
       "    .dataframe tbody tr th {\n",
       "        vertical-align: top;\n",
       "    }\n",
       "\n",
       "    .dataframe thead th {\n",
       "        text-align: right;\n",
       "    }\n",
       "</style>\n",
       "<table border=\"1\" class=\"dataframe\">\n",
       "  <thead>\n",
       "    <tr style=\"text-align: right;\">\n",
       "      <th></th>\n",
       "      <th>Score</th>\n",
       "      <th>Leaderboard</th>\n",
       "    </tr>\n",
       "    <tr>\n",
       "      <th>Regressor</th>\n",
       "      <th></th>\n",
       "      <th></th>\n",
       "    </tr>\n",
       "  </thead>\n",
       "  <tbody>\n",
       "    <tr>\n",
       "      <th>LinearRegression</th>\n",
       "      <td>10.485246</td>\n",
       "      <td>9.728</td>\n",
       "    </tr>\n",
       "    <tr>\n",
       "      <th>Lasso</th>\n",
       "      <td>10.819245</td>\n",
       "      <td>10.053</td>\n",
       "    </tr>\n",
       "    <tr>\n",
       "      <th>Ridge</th>\n",
       "      <td>10.483861</td>\n",
       "      <td>9.880</td>\n",
       "    </tr>\n",
       "    <tr>\n",
       "      <th>RandomForestRegressor</th>\n",
       "      <td>10.365455</td>\n",
       "      <td>9.820</td>\n",
       "    </tr>\n",
       "    <tr>\n",
       "      <th>DecisionTreeRegressor</th>\n",
       "      <td>14.983089</td>\n",
       "      <td>14.647</td>\n",
       "    </tr>\n",
       "    <tr>\n",
       "      <th>SVR</th>\n",
       "      <td>11.161276</td>\n",
       "      <td>11.931</td>\n",
       "    </tr>\n",
       "    <tr>\n",
       "      <th>KNeighborsRegressor</th>\n",
       "      <td>10.999232</td>\n",
       "      <td>12.125</td>\n",
       "    </tr>\n",
       "    <tr>\n",
       "      <th>MLPRegressor</th>\n",
       "      <td>10.340415</td>\n",
       "      <td>10.819</td>\n",
       "    </tr>\n",
       "    <tr>\n",
       "      <th>Mean</th>\n",
       "      <td>13.091083</td>\n",
       "      <td>11.960</td>\n",
       "    </tr>\n",
       "    <tr>\n",
       "      <th>Median</th>\n",
       "      <td>13.977330</td>\n",
       "      <td>12.866</td>\n",
       "    </tr>\n",
       "  </tbody>\n",
       "</table>\n",
       "</div>"
      ],
      "text/plain": [
       "                           Score  Leaderboard\n",
       "Regressor                                    \n",
       "LinearRegression       10.485246        9.728\n",
       "Lasso                  10.819245       10.053\n",
       "Ridge                  10.483861        9.880\n",
       "RandomForestRegressor  10.365455        9.820\n",
       "DecisionTreeRegressor  14.983089       14.647\n",
       "SVR                    11.161276       11.931\n",
       "KNeighborsRegressor    10.999232       12.125\n",
       "MLPRegressor           10.340415       10.819\n",
       "Mean                   13.091083       11.960\n",
       "Median                 13.977330       12.866"
      ]
     },
     "metadata": {},
     "output_type": "display_data"
    }
   ],
   "source": [
    "df_scores = pd.read_csv('proc/baseline-leaderboard.csv').set_index('Regressor')\n",
    "df_results = df_results.join(df_scores)\n",
    "display(df_results)\n",
    "df_results.to_csv('res/baseline-results.csv')"
   ]
  },
  {
   "cell_type": "markdown",
   "metadata": {},
   "source": [
    "# HyperParameter Tuning"
   ]
  },
  {
   "cell_type": "code",
   "execution_count": 8,
   "metadata": {},
   "outputs": [],
   "source": [
    "res = []"
   ]
  },
  {
   "cell_type": "markdown",
   "metadata": {},
   "source": [
    "### SVR"
   ]
  },
  {
   "cell_type": "code",
   "execution_count": 9,
   "metadata": {},
   "outputs": [
    {
     "name": "stdout",
     "output_type": "stream",
     "text": [
      "{'reg__C': 20, 'reg__epsilon': 2, 'reg__gamma': 'auto', 'reg__kernel': 'rbf'}\n",
      "-10.141876795188715\n",
      "Pipeline(steps=[('scaler', StandardScaler()),\n",
      "                ('reg', SVR(C=20, epsilon=2, gamma='auto'))])\n"
     ]
    }
   ],
   "source": [
    "pipe = Pipeline([\n",
    "    ('scaler', StandardScaler()),\n",
    "    ('reg', SVR())\n",
    "])\n",
    "\n",
    "param_grid = {\n",
    "    'reg__kernel': ['rbf'],\n",
    "    'reg__epsilon': [0.1, 0.5, 1, 2, 5, 10],\n",
    "    'reg__C': [5, 10, 20, 50, 100, 200, 1000],\n",
    "    'reg__gamma': ['scale', 'auto']\n",
    "}\n",
    "\n",
    "grid = GridSearchCV(pipe, param_grid, cv=5, scoring='neg_root_mean_squared_error', n_jobs=-1)\n",
    "grid.fit(X, y)  \n",
    "\n",
    "print(grid.best_params_)\n",
    "print(grid.best_score_)\n",
    "print(grid.best_estimator_)\n",
    "\n",
    "res.append({'Regressor': 'SVR', 'Score': -grid.best_score_, 'Params': grid.best_params_})"
   ]
  },
  {
   "cell_type": "code",
   "execution_count": 10,
   "metadata": {},
   "outputs": [],
   "source": [
    "reg = grid.best_estimator_\n",
    "reg.fit(X, y)\n",
    "y_pred = reg.predict(df_eval)\n",
    "\n",
    "df_out = pd.DataFrame(y_pred, index=df_eval.index, columns=['Predicted'])\n",
    "df_out.to_csv('out/svr.csv')"
   ]
  },
  {
   "cell_type": "markdown",
   "metadata": {},
   "source": [
    "**Score**: 9.311 using {'reg__C': 20, 'reg__epsilon': 5, 'reg__gamma': 'scale', 'reg__kernel': 'rbf'}"
   ]
  },
  {
   "cell_type": "markdown",
   "metadata": {},
   "source": [
    "### Ridge"
   ]
  },
  {
   "cell_type": "code",
   "execution_count": 11,
   "metadata": {},
   "outputs": [
    {
     "name": "stdout",
     "output_type": "stream",
     "text": [
      "{'poly__degree': 2, 'reg__alpha': 1000, 'rfe__n_features_to_select': np.float64(0.45999999999999996)}\n",
      "-10.259264923881535\n",
      "Pipeline(steps=[('scaler', StandardScaler()),\n",
      "                ('rfe',\n",
      "                 RFE(estimator=Ridge(),\n",
      "                     n_features_to_select=np.float64(0.45999999999999996))),\n",
      "                ('poly', PolynomialFeatures()), ('reg', Ridge(alpha=1000))])\n"
     ]
    }
   ],
   "source": [
    "pipe = Pipeline([\n",
    "    ('scaler', StandardScaler()),\n",
    "    ('rfe', RFE(Ridge())),\n",
    "    ('poly', PolynomialFeatures()),\n",
    "    ('reg', Ridge())\n",
    "])\n",
    "\n",
    "param_grid = {\n",
    "    'rfe__n_features_to_select': np.linspace(0.1, 1, 6),\n",
    "    'poly__degree': [2, 3],\n",
    "    'reg__alpha': [1, 10, 100, 1000]\n",
    "}\n",
    "\n",
    "grid = GridSearchCV(pipe, param_grid, cv=5, scoring='neg_root_mean_squared_error')\n",
    "grid.fit(X, y)  \n",
    "\n",
    "print(grid.best_params_)\n",
    "print(grid.best_score_)\n",
    "print(grid.best_estimator_)\n",
    "\n",
    "res.append({'Regressor': 'Ridge', 'Score': -grid.best_score_, 'Params': grid.best_params_})"
   ]
  },
  {
   "cell_type": "code",
   "execution_count": 12,
   "metadata": {},
   "outputs": [
    {
     "name": "stdout",
     "output_type": "stream",
     "text": [
      "Selected features: Index(['gender', 'mean_pitch', 'jitter', 'energy', 'hnr', 'silence_duration',\n",
      "       'spectral_bandwidth', 'MFCC-2-5', 'MFCC-3-5', 'MFCC-5-5', 'MFCC-6-5',\n",
      "       'MFCC-7-5', 'MFCC-8-5', 'MFCC-9-5', 'MFCC-11-5', 'MFCC-12-5',\n",
      "       'MFCC-1-50', 'MFCC-2-50', 'MFCC-5-50', 'MFCC-6-50', 'MFCC-7-50',\n",
      "       'MFCC-11-50', 'MFCC-2-95', 'MFCC-3-95', 'MFCC-4-95', 'MFCC-5-95',\n",
      "       'MFCC-7-95', 'MFCC-8-95', 'MFCC-11-95', 'MFCC-13-95', 'MFCCD-1-5',\n",
      "       'MFCCD-3-5', 'MFCCD-5-5', 'MFCCD-6-5', 'MFCCD-2-50', 'MFCCD-3-95',\n",
      "       'MFCCD-4-95', 'MFCCD-5-95', 'MFCCD-6-95', 'MFCCD-9-95', 'MFCCD-12-95',\n",
      "       'silence_ratio', 'wps'],\n",
      "      dtype='object')\n"
     ]
    }
   ],
   "source": [
    "rfe = grid.best_estimator_.named_steps['rfe']\n",
    "selected_features_indices = rfe.get_support(indices=True)\n",
    "selected_features = X.columns[selected_features_indices]\n",
    "print(\"Selected features:\", selected_features)"
   ]
  },
  {
   "cell_type": "code",
   "execution_count": 13,
   "metadata": {},
   "outputs": [],
   "source": [
    "reg = grid.best_estimator_\n",
    "reg.fit(X, y)\n",
    "y_pred = reg.predict(df_eval)\n",
    "\n",
    "df_out = pd.DataFrame(y_pred, index=df_eval.index, columns=['Predicted'])\n",
    "df_out.to_csv('out/ridge.csv')"
   ]
  },
  {
   "cell_type": "markdown",
   "metadata": {},
   "source": [
    "**Score**: 9.578 using {'poly__degree': 2, 'reg__alpha': 1000, 'rfe__n_features_to_select': np.float64(0.28)}"
   ]
  },
  {
   "cell_type": "markdown",
   "metadata": {},
   "source": [
    "### Linear Regression"
   ]
  },
  {
   "cell_type": "code",
   "execution_count": 14,
   "metadata": {},
   "outputs": [
    {
     "name": "stdout",
     "output_type": "stream",
     "text": [
      "{'poly__degree': 2, 'rfe__n_features_to_select': np.float64(0.1)}\n",
      "-10.415697216750718\n",
      "Pipeline(steps=[('scaler', StandardScaler()),\n",
      "                ('rfe',\n",
      "                 RFE(estimator=LinearRegression(),\n",
      "                     n_features_to_select=np.float64(0.1))),\n",
      "                ('poly', PolynomialFeatures()), ('reg', LinearRegression())])\n"
     ]
    }
   ],
   "source": [
    "pipe = Pipeline([\n",
    "    ('scaler', StandardScaler()),\n",
    "    ('rfe', RFE(LinearRegression())),\n",
    "    ('poly', PolynomialFeatures()),\n",
    "    ('reg', LinearRegression())\n",
    "])\n",
    "\n",
    "param_grid = {\n",
    "    'rfe__n_features_to_select': np.linspace(0.1, 1, 12),\n",
    "    'poly__degree': [2, 3],\n",
    "}\n",
    "\n",
    "grid = GridSearchCV(pipe, param_grid, cv=5, scoring='neg_root_mean_squared_error')\n",
    "grid.fit(X, y)  \n",
    "\n",
    "print(grid.best_params_)\n",
    "print(grid.best_score_)\n",
    "print(grid.best_estimator_)\n",
    "\n",
    "res.append({'Regressor': 'LinearRegression', 'Score': -grid.best_score_, 'Params': grid.best_params_})"
   ]
  },
  {
   "cell_type": "code",
   "execution_count": 15,
   "metadata": {},
   "outputs": [
    {
     "name": "stdout",
     "output_type": "stream",
     "text": [
      "Selected features: Index(['jitter', 'silence_duration', 'MFCC-6-5', 'MFCC-8-5', 'MFCC-7-50',\n",
      "       'MFCC-8-95', 'MFCCD-6-5', 'MFCCD-5-95', 'silence_ratio'],\n",
      "      dtype='object')\n"
     ]
    }
   ],
   "source": [
    "rfe = grid.best_estimator_.named_steps['rfe']\n",
    "selected_features_indices = rfe.get_support(indices=True)\n",
    "selected_features = X.columns[selected_features_indices]\n",
    "print(\"Selected features:\", selected_features)"
   ]
  },
  {
   "cell_type": "code",
   "execution_count": 16,
   "metadata": {},
   "outputs": [],
   "source": [
    "reg = grid.best_estimator_\n",
    "reg.fit(X, y)\n",
    "y_pred = reg.predict(df_eval)\n",
    "\n",
    "df_out = pd.DataFrame(y_pred, index=df_eval.index, columns=['Predicted'])\n",
    "df_out.to_csv('out/lr.csv')"
   ]
  },
  {
   "cell_type": "markdown",
   "metadata": {},
   "source": [
    "**Score**: 9.689 using {'poly__degree': 2, 'rfe__n_features_to_select': np.float64(0.1)}"
   ]
  },
  {
   "cell_type": "markdown",
   "metadata": {},
   "source": [
    "### Random Forest"
   ]
  },
  {
   "cell_type": "code",
   "execution_count": 17,
   "metadata": {},
   "outputs": [
    {
     "name": "stdout",
     "output_type": "stream",
     "text": [
      "{'reg__max_depth': None, 'reg__max_features': 'sqrt', 'reg__min_samples_leaf': 4, 'reg__min_samples_split': 2}\n",
      "-10.320533002586064\n",
      "Pipeline(steps=[('scaler', StandardScaler()),\n",
      "                ('reg',\n",
      "                 RandomForestRegressor(max_features='sqrt',\n",
      "                                       min_samples_leaf=4))])\n"
     ]
    }
   ],
   "source": [
    "pipe = Pipeline([\n",
    "    ('scaler', StandardScaler()),\n",
    "    ('reg', RandomForestRegressor())\n",
    "])\n",
    "\n",
    "param_grid = {\n",
    "    'reg__max_depth': [15, 30, 50, None],\n",
    "    'reg__min_samples_split': [2, 5],\n",
    "    'reg__min_samples_leaf': [1, 4, 16],\n",
    "    'reg__max_features': ['sqrt', 'log2']\n",
    "}\n",
    "\n",
    "grid = GridSearchCV(pipe, param_grid, cv=5, scoring='neg_root_mean_squared_error', n_jobs=-1)\n",
    "grid.fit(X, y)  \n",
    "\n",
    "print(grid.best_params_)\n",
    "print(grid.best_score_)\n",
    "print(grid.best_estimator_)\n",
    "\n",
    "res.append({'Regressor': 'RandomForestRegressor', 'Score': -grid.best_score_, 'Params': grid.best_params_})"
   ]
  },
  {
   "cell_type": "code",
   "execution_count": 18,
   "metadata": {},
   "outputs": [],
   "source": [
    "reg = grid.best_estimator_\n",
    "y_pred = reg.predict(df_eval)\n",
    "\n",
    "df_out = pd.DataFrame(y_pred, index=df_eval.index, columns=['Predicted'])\n",
    "df_out.to_csv('out/rf.csv')"
   ]
  },
  {
   "cell_type": "markdown",
   "metadata": {},
   "source": [
    "**Score**: 9.647 using {'reg__max_depth': 30, 'reg__max_features': 'sqrt', 'reg__min_samples_leaf': 4, 'reg__min_samples_split': 2}"
   ]
  },
  {
   "cell_type": "markdown",
   "metadata": {},
   "source": [
    "### Final Results"
   ]
  },
  {
   "cell_type": "code",
   "execution_count": 19,
   "metadata": {},
   "outputs": [
    {
     "data": {
      "text/html": [
       "<div>\n",
       "<style scoped>\n",
       "    .dataframe tbody tr th:only-of-type {\n",
       "        vertical-align: middle;\n",
       "    }\n",
       "\n",
       "    .dataframe tbody tr th {\n",
       "        vertical-align: top;\n",
       "    }\n",
       "\n",
       "    .dataframe thead th {\n",
       "        text-align: right;\n",
       "    }\n",
       "</style>\n",
       "<table border=\"1\" class=\"dataframe\">\n",
       "  <thead>\n",
       "    <tr style=\"text-align: right;\">\n",
       "      <th></th>\n",
       "      <th>Score</th>\n",
       "      <th>Params</th>\n",
       "      <th>Leaderboard</th>\n",
       "    </tr>\n",
       "    <tr>\n",
       "      <th>Regressor</th>\n",
       "      <th></th>\n",
       "      <th></th>\n",
       "      <th></th>\n",
       "    </tr>\n",
       "  </thead>\n",
       "  <tbody>\n",
       "    <tr>\n",
       "      <th>SVR</th>\n",
       "      <td>10.141877</td>\n",
       "      <td>{'reg__C': 20, 'reg__epsilon': 2, 'reg__gamma'...</td>\n",
       "      <td>9.311</td>\n",
       "    </tr>\n",
       "    <tr>\n",
       "      <th>Ridge</th>\n",
       "      <td>10.259265</td>\n",
       "      <td>{'poly__degree': 2, 'reg__alpha': 1000, 'rfe__...</td>\n",
       "      <td>9.578</td>\n",
       "    </tr>\n",
       "    <tr>\n",
       "      <th>LinearRegression</th>\n",
       "      <td>10.415697</td>\n",
       "      <td>{'poly__degree': 2, 'rfe__n_features_to_select...</td>\n",
       "      <td>9.689</td>\n",
       "    </tr>\n",
       "    <tr>\n",
       "      <th>RandomForestRegressor</th>\n",
       "      <td>10.320533</td>\n",
       "      <td>{'reg__max_depth': None, 'reg__max_features': ...</td>\n",
       "      <td>9.647</td>\n",
       "    </tr>\n",
       "  </tbody>\n",
       "</table>\n",
       "</div>"
      ],
      "text/plain": [
       "                           Score  \\\n",
       "Regressor                          \n",
       "SVR                    10.141877   \n",
       "Ridge                  10.259265   \n",
       "LinearRegression       10.415697   \n",
       "RandomForestRegressor  10.320533   \n",
       "\n",
       "                                                                  Params  \\\n",
       "Regressor                                                                  \n",
       "SVR                    {'reg__C': 20, 'reg__epsilon': 2, 'reg__gamma'...   \n",
       "Ridge                  {'poly__degree': 2, 'reg__alpha': 1000, 'rfe__...   \n",
       "LinearRegression       {'poly__degree': 2, 'rfe__n_features_to_select...   \n",
       "RandomForestRegressor  {'reg__max_depth': None, 'reg__max_features': ...   \n",
       "\n",
       "                       Leaderboard  \n",
       "Regressor                           \n",
       "SVR                          9.311  \n",
       "Ridge                        9.578  \n",
       "LinearRegression             9.689  \n",
       "RandomForestRegressor        9.647  "
      ]
     },
     "metadata": {},
     "output_type": "display_data"
    }
   ],
   "source": [
    "res_df = pd.DataFrame(res).set_index('Regressor')\n",
    "public_scores = pd.read_csv('proc/tuned-leaderboard.csv').set_index('Regressor')\n",
    "res_df = res_df.join(public_scores)\n",
    "display(res_df)\n",
    "res_df.to_csv('res/tuned-results.csv')"
   ]
  }
 ],
 "metadata": {
  "kernelspec": {
   "display_name": "dsl",
   "language": "python",
   "name": "python3"
  },
  "language_info": {
   "codemirror_mode": {
    "name": "ipython",
    "version": 3
   },
   "file_extension": ".py",
   "mimetype": "text/x-python",
   "name": "python",
   "nbconvert_exporter": "python",
   "pygments_lexer": "ipython3",
   "version": "3.12.7"
  }
 },
 "nbformat": 4,
 "nbformat_minor": 2
}
