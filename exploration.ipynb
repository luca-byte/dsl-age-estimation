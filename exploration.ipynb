{
 "cells": [
  {
   "cell_type": "code",
   "execution_count": 1,
   "metadata": {},
   "outputs": [],
   "source": [
    "import pandas as pd\n",
    "\n",
    "from sklearn.model_selection import train_test_split\n",
    "from sklearn.ensemble import RandomForestRegressor\n",
    "from sklearn.linear_model import LinearRegression, Lasso, Ridge\n",
    "from sklearn.preprocessing import StandardScaler\n",
    "from sklearn.svm import SVR \n",
    "from sklearn.tree import DecisionTreeRegressor  \n",
    "from sklearn.neighbors import KNeighborsRegressor\n",
    "from sklearn.neural_network import MLPRegressor \n",
    "\n",
    "from sklearn.metrics import root_mean_squared_error, r2_score"
   ]
  },
  {
   "cell_type": "code",
   "execution_count": null,
   "metadata": {},
   "outputs": [],
   "source": [
    "df = pd.read_csv('data/development.csv').set_index('Id')\n",
    "df.head()"
   ]
  },
  {
   "cell_type": "code",
   "execution_count": null,
   "metadata": {},
   "outputs": [],
   "source": [
    "df.info()"
   ]
  },
  {
   "cell_type": "code",
   "execution_count": 4,
   "metadata": {},
   "outputs": [],
   "source": [
    "df['tempo'] = df['tempo'].apply(lambda x: x.replace('[', '').replace(']', '')).astype('float')\n",
    "df.drop(['path', 'sampling_rate'], axis=1, inplace=True)"
   ]
  },
  {
   "cell_type": "code",
   "execution_count": null,
   "metadata": {},
   "outputs": [],
   "source": [
    "df['ethnicity'].unique(), df['ethnicity'].unique().__len__()"
   ]
  },
  {
   "cell_type": "code",
   "execution_count": 6,
   "metadata": {},
   "outputs": [],
   "source": [
    "df['igbo'] = df['ethnicity'].apply(lambda z: 1 if z == 'igbo' else 0)\n",
    "df.drop('ethnicity', axis=1, inplace=True)\n",
    "df['gender'] = df['gender'].map(lambda x: 1 if x == 'male' else 0)"
   ]
  },
  {
   "cell_type": "code",
   "execution_count": null,
   "metadata": {},
   "outputs": [],
   "source": [
    "# df = pd.get_dummies(df, columns=['ethnicity'], drop_first=True)"
   ]
  },
  {
   "cell_type": "code",
   "execution_count": null,
   "metadata": {},
   "outputs": [],
   "source": [
    "df.info()"
   ]
  },
  {
   "cell_type": "code",
   "execution_count": 10,
   "metadata": {},
   "outputs": [],
   "source": [
    "# df = df[df['num_characters'] != 281].drop(['num_words', 'num_characters'], axis=1)"
   ]
  },
  {
   "cell_type": "code",
   "execution_count": 11,
   "metadata": {},
   "outputs": [],
   "source": [
    "y = df['age']\n",
    "X = df.drop(columns='age')\n",
    "\n",
    "X_train, X_test, y_train, y_test = train_test_split(X, y, test_size=0.2)"
   ]
  },
  {
   "cell_type": "code",
   "execution_count": 12,
   "metadata": {},
   "outputs": [],
   "source": [
    "ss = StandardScaler()\n",
    "X_train = ss.fit_transform(X_train)\n",
    "X_test = ss.transform(X_test)"
   ]
  },
  {
   "cell_type": "code",
   "execution_count": null,
   "metadata": {},
   "outputs": [],
   "source": [
    "for model in [LinearRegression, Lasso, Ridge, RandomForestRegressor, SVR, DecisionTreeRegressor, KNeighborsRegressor, MLPRegressor]:\n",
    "    clf = model()\n",
    "    clf.fit(X_train, y_train)\n",
    "    y_pred = clf.predict(X_test)\n",
    "    rmse = root_mean_squared_error(y_test, y_pred)\n",
    "    r2 = r2_score(y_test, y_pred)\n",
    "    print(f'{model.__name__} RMSE: {rmse}')"
   ]
  },
  {
   "cell_type": "code",
   "execution_count": 24,
   "metadata": {},
   "outputs": [],
   "source": [
    "model = RandomForestRegressor()\n",
    "model.fit(X_train, y_train)\n",
    "y_pred = model.predict(X_test)  "
   ]
  },
  {
   "cell_type": "code",
   "execution_count": null,
   "metadata": {},
   "outputs": [],
   "source": [
    "import matplotlib.pyplot as plt\n",
    "\n",
    "plt.hist(y_test, bins=20, alpha=0.5, label='True')\n",
    "plt.hist(y_pred, bins=20, alpha=0.5, label='Predicted')\n",
    "plt.legend()"
   ]
  },
  {
   "cell_type": "code",
   "execution_count": null,
   "metadata": {},
   "outputs": [],
   "source": [
    "import numpy as np\n",
    "plt.figure(figsize=(10, 10))\n",
    "plt.scatter(y_test, y_pred, alpha=0.5)\n",
    "plt.grid(True, which='both', linestyle='--', linewidth=0.5)\n",
    "plt.xticks(np.arange(int(y_test.min()), int(y_test.max()) + 1, 1));"
   ]
  },
  {
   "cell_type": "code",
   "execution_count": null,
   "metadata": {},
   "outputs": [],
   "source": [
    "import numpy as np \n",
    "err = np.sqrt(np.sort((y_test - y_pred) ** 2))\n",
    "plt.plot(err)"
   ]
  },
  {
   "cell_type": "code",
   "execution_count": null,
   "metadata": {},
   "outputs": [],
   "source": [
    "y_test.max(), y_pred.max()\n",
    "err.max()"
   ]
  },
  {
   "cell_type": "code",
   "execution_count": null,
   "metadata": {},
   "outputs": [],
   "source": [
    "import numpy as np  \n",
    "\n",
    "importances = clf.coef_ \n",
    "indices = np.argsort(importances)\n",
    "\n",
    "plt.figure(figsize=(10, 15))\n",
    "plt.title('Feature Importances')\n",
    "plt.barh(range(len(indices)), importances[indices], align='center')\n",
    "plt.yticks(range(len(indices)), [X.columns[i] for i in indices])\n",
    "plt.xlabel('Relative Importance')\n",
    "plt.show()"
   ]
  },
  {
   "cell_type": "code",
   "execution_count": null,
   "metadata": {},
   "outputs": [],
   "source": [
    "# Valori unici e frequenza per la colonna num_words\n",
    "num_words_counts = df['num_words'].value_counts()\n",
    "print(\"Valori unici e frequenza per la colonna num_words:\")\n",
    "print(num_words_counts)\n",
    "\n",
    "# Valori unici e frequenza per la colonna num_characters\n",
    "num_characters_counts = df['num_characters'].value_counts()\n",
    "print(\"\\nValori unici e frequenza per la colonna num_characters:\")\n",
    "print(num_characters_counts)"
   ]
  },
  {
   "cell_type": "code",
   "execution_count": null,
   "metadata": {},
   "outputs": [],
   "source": [
    "df[df['num_characters'] == 0]"
   ]
  },
  {
   "cell_type": "code",
   "execution_count": null,
   "metadata": {},
   "outputs": [],
   "source": [
    "ev = pd.read_csv('data/evaluation.csv').set_index('Id')\n",
    "df = pd.read_csv('data/development.csv').set_index('Id')\n",
    "\n",
    "ethnicity_counts_df = df['ethnicity'].value_counts() / len(df)\n",
    "ethnicity_counts_ev = ev['ethnicity'].value_counts() / len(ev)\n",
    "\n",
    "st = pd.DataFrame([ethnicity_counts_df, ethnicity_counts_ev]).T.dropna()\n",
    "st.head()"
   ]
  },
  {
   "cell_type": "code",
   "execution_count": null,
   "metadata": {},
   "outputs": [],
   "source": [
    "import matplotlib.pyplot as plt\n",
    "\n",
    "# Lista delle colonne da escludere\n",
    "exclude_columns = ['ethnicity', 'sampling_rate', 'path', 'age']\n",
    "\n",
    "# Filtra le colonne da visualizzare\n",
    "columns_to_plot = [col for col in df.columns if col not in exclude_columns]\n",
    "\n",
    "df['tempo'] = df['tempo'].apply(lambda x: x.replace('[', '').replace(']', '')).astype('float')\n",
    "df.drop(['path', 'sampling_rate'], axis=1, inplace=True)\n",
    "\n",
    "ev['tempo'] = ev['tempo'].apply(lambda x: x.replace('[', '').replace(']', '')).astype('float')\n",
    "ev.drop(['path', 'sampling_rate'], axis=1, inplace=True)\n",
    "\n",
    "# Crea i grafici\n",
    "for col in columns_to_plot:\n",
    "    plt.figure(figsize=(10, 5))\n",
    "    plt.hist(df[col], bins=20, alpha=0.5, label='Development', color='blue', density=True)  \n",
    "    plt.hist(ev[col], bins=20, alpha=0.5, label='Evaluation', color='orange', density=True)\n",
    "    plt.title(f'Distribution of {col}')\n",
    "    plt.xlabel(col)\n",
    "    plt.ylabel('Density')\n",
    "    plt.legend()\n",
    "    plt.show()"
   ]
  },
  {
   "cell_type": "code",
   "execution_count": 60,
   "metadata": {},
   "outputs": [],
   "source": [
    "df['igbo'] = df['ethnicity'].apply(lambda z: 1 if z == 'igbo' else 0)\n",
    "df.drop('ethnicity', axis=1, inplace=True)\n",
    "df['gender'] = df['gender'].map(lambda x: 1 if x == 'male' else 0)\n",
    "\n",
    "ev['igbo'] = ev['ethnicity'].apply(lambda z: 1 if z == 'igbo' else 0)\n",
    "ev.drop('ethnicity', axis=1, inplace=True)\n",
    "ev['gender'] = ev['gender'].map(lambda x: 1 if x == 'male' else 0)"
   ]
  },
  {
   "cell_type": "code",
   "execution_count": 61,
   "metadata": {},
   "outputs": [],
   "source": [
    "df.drop(['age'], axis=1, inplace=True)"
   ]
  },
  {
   "cell_type": "code",
   "execution_count": 62,
   "metadata": {},
   "outputs": [],
   "source": [
    "ss = StandardScaler()\n",
    "cols = df.columns\n",
    "df = ss.fit_transform(df)\n",
    "ev = ss.transform(ev)"
   ]
  },
  {
   "cell_type": "code",
   "execution_count": null,
   "metadata": {},
   "outputs": [],
   "source": [
    "from sklearn.decomposition import PCA\n",
    "\n",
    "# Esegui la PCA\n",
    "pca = PCA()\n",
    "X_pca = pca.fit_transform(df)\n",
    "\n",
    "# Mostra la varianza spiegata\n",
    "explained_variance = pca.explained_variance_ratio_\n",
    "print(\"Explained variance ratio:\", explained_variance)\n",
    "\n",
    "# Grafico della varianza spiegata cumulativa\n",
    "plt.figure(figsize=(10, 5))\n",
    "plt.plot(np.cumsum(explained_variance))\n",
    "plt.xlabel('Number of Components')\n",
    "plt.ylabel('Cumulative Explained Variance')\n",
    "plt.title('Explained Variance by PCA Components')\n",
    "plt.grid(True)\n",
    "plt.show()"
   ]
  },
  {
   "cell_type": "code",
   "execution_count": null,
   "metadata": {},
   "outputs": [],
   "source": [
    "# Ottieni i pesi delle prime 5 componenti principali\n",
    "components = pca.components_[:5]\n",
    "\n",
    "# Crea un grafico a barre orizzontali per ogni componente\n",
    "for i, component in enumerate(components):\n",
    "    plt.figure(figsize=(10, 5))\n",
    "    plt.barh(range(len(component)), component, align='center')\n",
    "    plt.yticks(range(len(component)), cols)\n",
    "    plt.xlabel('Peso')\n",
    "    plt.title(f'Component {i+1}')\n",
    "    plt.show()"
   ]
  },
  {
   "cell_type": "code",
   "execution_count": null,
   "metadata": {},
   "outputs": [],
   "source": [
    "from sklearn.discriminant_analysis import LinearDiscriminantAnalysis\n",
    "\n",
    "# Inizializza il modello LDA\n",
    "lda = LinearDiscriminantAnalysis()\n",
    "\n",
    "# Adatta il modello ai dati di addestramento\n",
    "lda.fit(X_train, y_train)\n",
    "\n",
    "# Trasforma i dati di test\n",
    "X_test_lda = lda.transform(X_test)\n",
    "\n",
    "# Trasforma i dati di addestramento\n",
    "X_train_lda = lda.transform(X_train)\n",
    "\n",
    "# Stampa le prime righe dei dati trasformati\n",
    "print(\"Dati di test trasformati con LDA:\")\n",
    "print(X_test_lda[:5])\n",
    "\n",
    "print(\"\\nDati di addestramento trasformati con LDA:\")\n",
    "print(X_train_lda[:5])"
   ]
  },
  {
   "cell_type": "code",
   "execution_count": null,
   "metadata": {},
   "outputs": [],
   "source": [
    "from sklearn.model_selection import StratifiedShuffleSplit\n",
    "\n",
    "# Supponiamo che la feature su cui vuoi fare stratified sampling sia 'gender'\n",
    "split = StratifiedShuffleSplit(n_splits=1, test_size=0.2, random_state=42)\n",
    "\n",
    "for train_index, test_index in split.split(df, df['igbo']):\n",
    "    X_train_strat, X_test_strat = df.iloc[train_index], df.iloc[test_index]\n",
    "    y_train_strat, y_test_strat = df.iloc[train_index], df.iloc[test_index]\n",
    "\n",
    "# Verifica la distribuzione della feature 'gender' nei set di train e test\n",
    "print(\"Distribuzione di 'gender' nel set di train:\")\n",
    "print(y_train_strat.value_counts(normalize=True))\n",
    "\n",
    "print(\"\\nDistribuzione di 'gender' nel set di test:\")\n",
    "print(y_test_strat.value_counts(normalize=True))"
   ]
  }
 ],
 "metadata": {
  "kernelspec": {
   "display_name": "dsl",
   "language": "python",
   "name": "python3"
  },
  "language_info": {
   "codemirror_mode": {
    "name": "ipython",
    "version": 3
   },
   "file_extension": ".py",
   "mimetype": "text/x-python",
   "name": "python",
   "nbconvert_exporter": "python",
   "pygments_lexer": "ipython3",
   "version": "3.12.7"
  }
 },
 "nbformat": 4,
 "nbformat_minor": 2
}
