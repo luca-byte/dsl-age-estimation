{
 "cells": [
  {
   "cell_type": "code",
   "execution_count": 24,
   "metadata": {},
   "outputs": [],
   "source": [
    "import pandas as pd\n",
    "import numpy as np"
   ]
  },
  {
   "cell_type": "code",
   "execution_count": null,
   "metadata": {},
   "outputs": [],
   "source": [
    "df = pd.read_csv('data/development.csv').set_index('Id')\n",
    "ev = pd.read_csv('data/evaluation.csv').set_index('Id')\n",
    "df.head()"
   ]
  },
  {
   "cell_type": "code",
   "execution_count": 26,
   "metadata": {},
   "outputs": [],
   "source": [
    "# We drop the sampling rate, which is the same value for all samples\n",
    "# We drop the path, which is not useful for the regression task\n",
    "df.drop(['sampling_rate', 'path'], axis=1, inplace=True)\n",
    "ev.drop(['sampling_rate', 'path'], axis=1, inplace=True) "
   ]
  },
  {
   "cell_type": "code",
   "execution_count": null,
   "metadata": {},
   "outputs": [],
   "source": [
    "# We convert the tempo to the float data type from the format '[float]'\n",
    "df['tempo'] = df['tempo'].apply(lambda x: x.replace('[', '').replace(']', '')).astype('float')\n",
    "ev['tempo'] = ev['tempo'].apply(lambda x: x.replace('[', '').replace(']', '')).astype('float')\n",
    "df['tempo'].dtype, ev['tempo'].dtype"
   ]
  },
  {
   "cell_type": "code",
   "execution_count": 28,
   "metadata": {},
   "outputs": [],
   "source": [
    "# We keep only the `igbo` ethicity since it is the only ethnicity which is significantly present\n",
    "# in both the development and the evaluation dataset\n",
    "\n",
    "df['igbo'] = df['ethnicity'].apply(lambda z: 1 if z == 'igbo' else 0)\n",
    "df.drop('ethnicity', axis=1, inplace=True)\n",
    "\n",
    "ev['igbo'] = ev['ethnicity'].apply(lambda z: 1 if z == 'igbo' else 0)\n",
    "ev.drop('ethnicity', axis=1, inplace=True)"
   ]
  },
  {
   "cell_type": "code",
   "execution_count": null,
   "metadata": {},
   "outputs": [],
   "source": [
    "ev['gender'].value_counts()"
   ]
  },
  {
   "cell_type": "code",
   "execution_count": null,
   "metadata": {},
   "outputs": [],
   "source": [
    "gender =  {'male': 1, 'female': 0, \"famale\": 0}\n",
    "\n",
    "# We encode the gender using dummy encoding\n",
    "df['gender'] = df['gender'].map(gender)\n",
    "ev['gender'] = ev['gender'].map(gender)\n",
    "\n",
    "df.head()"
   ]
  },
  {
   "cell_type": "code",
   "execution_count": 31,
   "metadata": {},
   "outputs": [],
   "source": [
    "# Since most of the speakers are pronouncing the same sentence, \n",
    "# we define a feature which indicates wheter the sentence is that one\n",
    "df['standard_sentence'] = (df['num_words'] == 69).astype('int')\n",
    "ev['standard_sentence'] = (ev['num_words'] == 69).astype('int')"
   ]
  },
  {
   "cell_type": "code",
   "execution_count": 32,
   "metadata": {},
   "outputs": [],
   "source": [
    "# We drop min_pitch and max_pitch since they heavily centered around the same value.\n",
    "df.drop(['min_pitch', 'max_pitch'], axis='columns', inplace=True)\n",
    "ev.drop(['min_pitch', 'max_pitch'], axis='columns', inplace=True)"
   ]
  },
  {
   "cell_type": "code",
   "execution_count": 33,
   "metadata": {},
   "outputs": [],
   "source": [
    "# We apply the log function to obtain a greater spread of values. \n",
    "df['energy'] = df['energy'].apply(np.log)\n",
    "ev['energy'] = ev['energy'].apply(np.log)"
   ]
  },
  {
   "cell_type": "code",
   "execution_count": 34,
   "metadata": {},
   "outputs": [],
   "source": [
    "df.to_csv('proc/development.csv')\n",
    "ev.to_csv('proc/evaluation.csv')"
   ]
  }
 ],
 "metadata": {
  "kernelspec": {
   "display_name": "dsl",
   "language": "python",
   "name": "python3"
  },
  "language_info": {
   "codemirror_mode": {
    "name": "ipython",
    "version": 3
   },
   "file_extension": ".py",
   "mimetype": "text/x-python",
   "name": "python",
   "nbconvert_exporter": "python",
   "pygments_lexer": "ipython3",
   "version": "3.12.7"
  }
 },
 "nbformat": 4,
 "nbformat_minor": 2
}
