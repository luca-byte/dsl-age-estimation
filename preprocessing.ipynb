{
 "cells": [
  {
   "cell_type": "code",
   "execution_count": 60,
   "metadata": {},
   "outputs": [],
   "source": [
    "import pandas as pd\n",
    "import numpy as np"
   ]
  },
  {
   "cell_type": "code",
   "execution_count": 61,
   "metadata": {},
   "outputs": [
    {
     "data": {
      "text/html": [
       "<div>\n",
       "<style scoped>\n",
       "    .dataframe tbody tr th:only-of-type {\n",
       "        vertical-align: middle;\n",
       "    }\n",
       "\n",
       "    .dataframe tbody tr th {\n",
       "        vertical-align: top;\n",
       "    }\n",
       "\n",
       "    .dataframe thead th {\n",
       "        text-align: right;\n",
       "    }\n",
       "</style>\n",
       "<table border=\"1\" class=\"dataframe\">\n",
       "  <thead>\n",
       "    <tr style=\"text-align: right;\">\n",
       "      <th></th>\n",
       "      <th>sampling_rate</th>\n",
       "      <th>age</th>\n",
       "      <th>gender</th>\n",
       "      <th>ethnicity</th>\n",
       "      <th>mean_pitch</th>\n",
       "      <th>max_pitch</th>\n",
       "      <th>min_pitch</th>\n",
       "      <th>jitter</th>\n",
       "      <th>shimmer</th>\n",
       "      <th>energy</th>\n",
       "      <th>zcr_mean</th>\n",
       "      <th>spectral_centroid_mean</th>\n",
       "      <th>tempo</th>\n",
       "      <th>hnr</th>\n",
       "      <th>num_words</th>\n",
       "      <th>num_characters</th>\n",
       "      <th>num_pauses</th>\n",
       "      <th>silence_duration</th>\n",
       "      <th>path</th>\n",
       "    </tr>\n",
       "    <tr>\n",
       "      <th>Id</th>\n",
       "      <th></th>\n",
       "      <th></th>\n",
       "      <th></th>\n",
       "      <th></th>\n",
       "      <th></th>\n",
       "      <th></th>\n",
       "      <th></th>\n",
       "      <th></th>\n",
       "      <th></th>\n",
       "      <th></th>\n",
       "      <th></th>\n",
       "      <th></th>\n",
       "      <th></th>\n",
       "      <th></th>\n",
       "      <th></th>\n",
       "      <th></th>\n",
       "      <th></th>\n",
       "      <th></th>\n",
       "      <th></th>\n",
       "    </tr>\n",
       "  </thead>\n",
       "  <tbody>\n",
       "    <tr>\n",
       "      <th>0</th>\n",
       "      <td>22050</td>\n",
       "      <td>24.0</td>\n",
       "      <td>female</td>\n",
       "      <td>arabic</td>\n",
       "      <td>1821.6906</td>\n",
       "      <td>3999.7170</td>\n",
       "      <td>145.43066</td>\n",
       "      <td>0.013795</td>\n",
       "      <td>0.082725</td>\n",
       "      <td>0.002254</td>\n",
       "      <td>0.210093</td>\n",
       "      <td>3112.257251</td>\n",
       "      <td>[151.99908088]</td>\n",
       "      <td>-123.999726</td>\n",
       "      <td>69</td>\n",
       "      <td>281</td>\n",
       "      <td>39</td>\n",
       "      <td>23.846893</td>\n",
       "      <td>audios_development/1.wav</td>\n",
       "    </tr>\n",
       "    <tr>\n",
       "      <th>1</th>\n",
       "      <td>22050</td>\n",
       "      <td>22.5</td>\n",
       "      <td>female</td>\n",
       "      <td>hungarian</td>\n",
       "      <td>1297.8187</td>\n",
       "      <td>3998.8590</td>\n",
       "      <td>145.37268</td>\n",
       "      <td>0.025349</td>\n",
       "      <td>0.096242</td>\n",
       "      <td>0.007819</td>\n",
       "      <td>0.078849</td>\n",
       "      <td>1688.016389</td>\n",
       "      <td>[129.19921875]</td>\n",
       "      <td>-86.928478</td>\n",
       "      <td>69</td>\n",
       "      <td>281</td>\n",
       "      <td>21</td>\n",
       "      <td>19.388662</td>\n",
       "      <td>audios_development/2.wav</td>\n",
       "    </tr>\n",
       "    <tr>\n",
       "      <th>2</th>\n",
       "      <td>22050</td>\n",
       "      <td>22.0</td>\n",
       "      <td>female</td>\n",
       "      <td>portuguese</td>\n",
       "      <td>1332.8524</td>\n",
       "      <td>3998.8025</td>\n",
       "      <td>145.42395</td>\n",
       "      <td>0.019067</td>\n",
       "      <td>0.119456</td>\n",
       "      <td>0.002974</td>\n",
       "      <td>0.105365</td>\n",
       "      <td>2576.901706</td>\n",
       "      <td>[117.45383523]</td>\n",
       "      <td>-98.450670</td>\n",
       "      <td>69</td>\n",
       "      <td>281</td>\n",
       "      <td>1</td>\n",
       "      <td>21.640998</td>\n",
       "      <td>audios_development/3.wav</td>\n",
       "    </tr>\n",
       "    <tr>\n",
       "      <th>3</th>\n",
       "      <td>22050</td>\n",
       "      <td>22.0</td>\n",
       "      <td>female</td>\n",
       "      <td>english</td>\n",
       "      <td>1430.3499</td>\n",
       "      <td>3998.4510</td>\n",
       "      <td>147.98083</td>\n",
       "      <td>0.017004</td>\n",
       "      <td>0.102389</td>\n",
       "      <td>0.022371</td>\n",
       "      <td>0.173701</td>\n",
       "      <td>3269.751413</td>\n",
       "      <td>[117.45383523]</td>\n",
       "      <td>-56.459762</td>\n",
       "      <td>69</td>\n",
       "      <td>281</td>\n",
       "      <td>9</td>\n",
       "      <td>19.644127</td>\n",
       "      <td>audios_development/4.wav</td>\n",
       "    </tr>\n",
       "    <tr>\n",
       "      <th>4</th>\n",
       "      <td>22050</td>\n",
       "      <td>22.0</td>\n",
       "      <td>male</td>\n",
       "      <td>dutch</td>\n",
       "      <td>1688.7234</td>\n",
       "      <td>3998.6113</td>\n",
       "      <td>145.44772</td>\n",
       "      <td>0.028027</td>\n",
       "      <td>0.124831</td>\n",
       "      <td>0.005369</td>\n",
       "      <td>0.107279</td>\n",
       "      <td>1930.897375</td>\n",
       "      <td>[112.34714674]</td>\n",
       "      <td>-80.349204</td>\n",
       "      <td>69</td>\n",
       "      <td>281</td>\n",
       "      <td>11</td>\n",
       "      <td>18.041905</td>\n",
       "      <td>audios_development/5.wav</td>\n",
       "    </tr>\n",
       "  </tbody>\n",
       "</table>\n",
       "</div>"
      ],
      "text/plain": [
       "    sampling_rate   age  gender   ethnicity  mean_pitch  max_pitch  min_pitch  \\\n",
       "Id                                                                              \n",
       "0           22050  24.0  female      arabic   1821.6906  3999.7170  145.43066   \n",
       "1           22050  22.5  female   hungarian   1297.8187  3998.8590  145.37268   \n",
       "2           22050  22.0  female  portuguese   1332.8524  3998.8025  145.42395   \n",
       "3           22050  22.0  female     english   1430.3499  3998.4510  147.98083   \n",
       "4           22050  22.0    male       dutch   1688.7234  3998.6113  145.44772   \n",
       "\n",
       "      jitter   shimmer    energy  zcr_mean  spectral_centroid_mean  \\\n",
       "Id                                                                   \n",
       "0   0.013795  0.082725  0.002254  0.210093             3112.257251   \n",
       "1   0.025349  0.096242  0.007819  0.078849             1688.016389   \n",
       "2   0.019067  0.119456  0.002974  0.105365             2576.901706   \n",
       "3   0.017004  0.102389  0.022371  0.173701             3269.751413   \n",
       "4   0.028027  0.124831  0.005369  0.107279             1930.897375   \n",
       "\n",
       "             tempo         hnr  num_words  num_characters  num_pauses  \\\n",
       "Id                                                                      \n",
       "0   [151.99908088] -123.999726         69             281          39   \n",
       "1   [129.19921875]  -86.928478         69             281          21   \n",
       "2   [117.45383523]  -98.450670         69             281           1   \n",
       "3   [117.45383523]  -56.459762         69             281           9   \n",
       "4   [112.34714674]  -80.349204         69             281          11   \n",
       "\n",
       "    silence_duration                      path  \n",
       "Id                                              \n",
       "0          23.846893  audios_development/1.wav  \n",
       "1          19.388662  audios_development/2.wav  \n",
       "2          21.640998  audios_development/3.wav  \n",
       "3          19.644127  audios_development/4.wav  \n",
       "4          18.041905  audios_development/5.wav  "
      ]
     },
     "execution_count": 61,
     "metadata": {},
     "output_type": "execute_result"
    }
   ],
   "source": [
    "df = pd.read_csv('data/development.csv').set_index('Id')\n",
    "ev = pd.read_csv('data/evaluation.csv').set_index('Id')\n",
    "df.head()"
   ]
  },
  {
   "cell_type": "code",
   "execution_count": 62,
   "metadata": {},
   "outputs": [],
   "source": [
    "# We drop the sampling rate, which is the same value for all samples\n",
    "# We drop the path, which is not useful for the regression task\n",
    "df.drop(['sampling_rate', 'path'], axis=1, inplace=True)\n",
    "ev.drop(['sampling_rate', 'path'], axis=1, inplace=True) "
   ]
  },
  {
   "cell_type": "code",
   "execution_count": 63,
   "metadata": {},
   "outputs": [
    {
     "data": {
      "text/plain": [
       "(dtype('float64'), dtype('float64'))"
      ]
     },
     "execution_count": 63,
     "metadata": {},
     "output_type": "execute_result"
    }
   ],
   "source": [
    "# We convert the tempo to the float data type from the format '[float]'\n",
    "df['tempo'] = df['tempo'].apply(lambda x: x.replace('[', '').replace(']', '')).astype('float')\n",
    "ev['tempo'] = ev['tempo'].apply(lambda x: x.replace('[', '').replace(']', '')).astype('float')\n",
    "df['tempo'].dtype, ev['tempo'].dtype"
   ]
  },
  {
   "cell_type": "code",
   "execution_count": 64,
   "metadata": {},
   "outputs": [],
   "source": [
    "# We keep only the `igbo` ethicity since it is the only ethnicity which is significantly present\n",
    "# in both the development and the evaluation dataset\n",
    "\n",
    "df['igbo'] = df['ethnicity'].apply(lambda z: 1 if z == 'igbo' else 0)\n",
    "df.drop('ethnicity', axis=1, inplace=True)\n",
    "\n",
    "ev['igbo'] = ev['ethnicity'].apply(lambda z: 1 if z == 'igbo' else 0)\n",
    "ev.drop('ethnicity', axis=1, inplace=True)"
   ]
  },
  {
   "cell_type": "code",
   "execution_count": 65,
   "metadata": {},
   "outputs": [
    {
     "data": {
      "text/plain": [
       "gender\n",
       "male      393\n",
       "female    297\n",
       "famale      1\n",
       "Name: count, dtype: int64"
      ]
     },
     "execution_count": 65,
     "metadata": {},
     "output_type": "execute_result"
    }
   ],
   "source": [
    "ev['gender'].value_counts()"
   ]
  },
  {
   "cell_type": "code",
   "execution_count": 66,
   "metadata": {},
   "outputs": [],
   "source": [
    "gender =  {'male': 1, 'female': 0}\n",
    "\n",
    "# We correct the famale gender\n",
    "ev['gender'] = ev['gender'].map({'famale': 'female'})\n",
    "\n",
    "# We encode the gender using dummy encoding\n",
    "df['gender'] = df['gender'].map(gender)\n",
    "ev['gender'] = ev['gender'].map(gender)"
   ]
  },
  {
   "cell_type": "code",
   "execution_count": 67,
   "metadata": {},
   "outputs": [],
   "source": [
    "# Since most of the speakers are pronouncing the same sentence, \n",
    "# we define a feature which indicates wheter the sentence is that one\n",
    "df['standard_sentence'] = (df['num_words'] == 69).astype('int')\n",
    "ev['standard_sentence'] = (ev['num_words'] == 69).astype('int')"
   ]
  },
  {
   "cell_type": "code",
   "execution_count": 68,
   "metadata": {},
   "outputs": [],
   "source": [
    "# We drop min_pitch and max_pitch since they heavily centered around the same value.\n",
    "df.drop(['min_pitch', 'max_pitch'], axis='columns', inplace=True)\n",
    "ev.drop(['min_pitch', 'max_pitch'], axis='columns', inplace=True)"
   ]
  },
  {
   "cell_type": "code",
   "execution_count": 69,
   "metadata": {},
   "outputs": [],
   "source": [
    "# We apply the log function to obtain a greater spread of values. \n",
    "df['energy'] = df['energy'].apply(np.log)\n",
    "ev['energy'] = ev['energy'].apply(np.log)"
   ]
  },
  {
   "cell_type": "code",
   "execution_count": 70,
   "metadata": {},
   "outputs": [],
   "source": [
    "df.to_csv('proc/development.csv')\n",
    "ev.to_csv('proc/evaluation.csv')"
   ]
  }
 ],
 "metadata": {
  "kernelspec": {
   "display_name": "dsl",
   "language": "python",
   "name": "python3"
  },
  "language_info": {
   "codemirror_mode": {
    "name": "ipython",
    "version": 3
   },
   "file_extension": ".py",
   "mimetype": "text/x-python",
   "name": "python",
   "nbconvert_exporter": "python",
   "pygments_lexer": "ipython3",
   "version": "3.12.7"
  }
 },
 "nbformat": 4,
 "nbformat_minor": 2
}
