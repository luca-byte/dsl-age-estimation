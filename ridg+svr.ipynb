{
 "cells": [
  {
   "cell_type": "code",
   "execution_count": 2,
   "metadata": {},
   "outputs": [],
   "source": [
    "import pandas as pd\n",
    "\n",
    "df_dev = pd.read_csv('data/development_processed.csv').set_index('Id')\n",
    "df_eval = pd.read_csv('data/evaluation_processed.csv').set_index('Id')"
   ]
  },
  {
   "cell_type": "code",
   "execution_count": 3,
   "metadata": {},
   "outputs": [],
   "source": [
    "df_dev.drop(columns=['duration', 'num_characters', 'num_words', 'num_pauses'], inplace=True)\n",
    "df_eval.drop(columns=['duration', 'num_characters', 'num_words', 'num_pauses'], inplace=True)"
   ]
  },
  {
   "cell_type": "code",
   "execution_count": 4,
   "metadata": {},
   "outputs": [],
   "source": [
    "from sklearn.model_selection import train_test_split\n",
    "X = df_dev.drop(columns=['age'])\n",
    "y = df_dev['age']\n"
   ]
  },
  {
   "cell_type": "code",
   "execution_count": 5,
   "metadata": {},
   "outputs": [],
   "source": [
    "from sklearn.preprocessing import StandardScaler\n",
    "\n",
    "# scaler = StandardScaler()\n",
    "# X_train = scaler.fit_transform(X_train)\n",
    "# X_test = scaler.transform(X_test)"
   ]
  },
  {
   "cell_type": "code",
   "execution_count": 6,
   "metadata": {},
   "outputs": [
    {
     "name": "stdout",
     "output_type": "stream",
     "text": [
      "LinearRegression() -10.648888765414885\n",
      "Lasso() -10.95829204177837\n",
      "Ridge() -10.648058340186129\n",
      "RandomForestRegressor() -10.518235089701104\n",
      "SVR() -11.2761395711642\n",
      "KNeighborsRegressor() -11.502456689730352\n"
     ]
    },
    {
     "name": "stderr",
     "output_type": "stream",
     "text": [
      "c:\\Users\\lucad\\miniforge3\\envs\\dsl\\Lib\\site-packages\\sklearn\\neural_network\\_multilayer_perceptron.py:690: ConvergenceWarning: Stochastic Optimizer: Maximum iterations (200) reached and the optimization hasn't converged yet.\n",
      "  warnings.warn(\n",
      "c:\\Users\\lucad\\miniforge3\\envs\\dsl\\Lib\\site-packages\\sklearn\\neural_network\\_multilayer_perceptron.py:690: ConvergenceWarning: Stochastic Optimizer: Maximum iterations (200) reached and the optimization hasn't converged yet.\n",
      "  warnings.warn(\n",
      "c:\\Users\\lucad\\miniforge3\\envs\\dsl\\Lib\\site-packages\\sklearn\\neural_network\\_multilayer_perceptron.py:690: ConvergenceWarning: Stochastic Optimizer: Maximum iterations (200) reached and the optimization hasn't converged yet.\n",
      "  warnings.warn(\n",
      "c:\\Users\\lucad\\miniforge3\\envs\\dsl\\Lib\\site-packages\\sklearn\\neural_network\\_multilayer_perceptron.py:690: ConvergenceWarning: Stochastic Optimizer: Maximum iterations (200) reached and the optimization hasn't converged yet.\n",
      "  warnings.warn(\n"
     ]
    },
    {
     "name": "stdout",
     "output_type": "stream",
     "text": [
      "MLPRegressor() -10.434214535967605\n"
     ]
    },
    {
     "name": "stderr",
     "output_type": "stream",
     "text": [
      "c:\\Users\\lucad\\miniforge3\\envs\\dsl\\Lib\\site-packages\\sklearn\\neural_network\\_multilayer_perceptron.py:690: ConvergenceWarning: Stochastic Optimizer: Maximum iterations (200) reached and the optimization hasn't converged yet.\n",
      "  warnings.warn(\n"
     ]
    }
   ],
   "source": [
    "from sklearn.ensemble import RandomForestRegressor\n",
    "from sklearn.linear_model import LinearRegression, Lasso, Ridge\n",
    "from sklearn.svm import SVR \n",
    "from sklearn.neighbors import KNeighborsRegressor\n",
    "from sklearn.neural_network import MLPRegressor \n",
    "from sklearn.model_selection import cross_val_score\n",
    "from sklearn.pipeline import make_pipeline\n",
    "\n",
    "for reg in [LinearRegression(), Lasso(), Ridge(), RandomForestRegressor(), SVR(), KNeighborsRegressor(), MLPRegressor()]:\n",
    "    score = cross_val_score(make_pipeline(StandardScaler(), reg), X, y, cv=5, scoring='neg_root_mean_squared_error')\n",
    "    print(reg.__class__(), score.mean())\n"
   ]
  },
  {
   "cell_type": "code",
   "execution_count": 13,
   "metadata": {},
   "outputs": [
    {
     "name": "stdout",
     "output_type": "stream",
     "text": [
      "Fitting 5 folds for each of 96 candidates, totalling 480 fits\n",
      "{'reg__C': 10, 'reg__degree': 2, 'reg__gamma': 'auto', 'reg__kernel': 'rbf'}\n",
      "-10.419464049521922\n",
      "Pipeline(steps=[('scaler', StandardScaler()),\n",
      "                ('reg', SVR(C=10, degree=2, gamma='auto'))])\n"
     ]
    }
   ],
   "source": [
    "from sklearn.model_selection import GridSearchCV\n",
    "from sklearn.pipeline import Pipeline\n",
    "\n",
    "pipe = Pipeline([\n",
    "    ('scaler', StandardScaler()),\n",
    "    ('reg', SVR())\n",
    "])\n",
    "\n",
    "param_grid = {\n",
    "    'reg__kernel': ['linear', 'rbf'],\n",
    "    'reg__epsilon': [0.1, 0.5, 1, 5],\n",
    "    'reg__C': [0.1, 1, 10, 100],\n",
    "    'reg__gamma': ['scale', 'auto', 1e-3, 1e-2, 0.1, 1]\n",
    "}\n",
    "\n",
    "grid = GridSearchCV(pipe, param_grid, cv=5, scoring='neg_root_mean_squared_error', verbose=10, n_jobs=-1)\n",
    "grid.fit(X, y)  \n",
    "\n",
    "print(grid.best_params_)\n",
    "print(grid.best_score_)\n",
    "print(grid.best_estimator_)"
   ]
  },
  {
   "cell_type": "code",
   "execution_count": 14,
   "metadata": {},
   "outputs": [],
   "source": [
    "reg = grid.best_estimator_\n",
    "reg.fit(X, y)\n",
    "y_pred = reg.predict(df_eval)\n",
    "\n",
    "df_out = pd.DataFrame(y_pred, index=df_eval.index, columns=['Predicted'])\n",
    "df_out.to_csv('out/svr.csv')"
   ]
  },
  {
   "cell_type": "markdown",
   "metadata": {},
   "source": [
    "**Score**: 9.526"
   ]
  },
  {
   "cell_type": "code",
   "execution_count": 11,
   "metadata": {},
   "outputs": [
    {
     "name": "stdout",
     "output_type": "stream",
     "text": [
      "Fitting 5 folds for each of 50 candidates, totalling 250 fits\n"
     ]
    },
    {
     "name": "stderr",
     "output_type": "stream",
     "text": [
      "c:\\Users\\lucad\\miniforge3\\envs\\dsl\\Lib\\site-packages\\numpy\\ma\\core.py:2846: RuntimeWarning: invalid value encountered in cast\n",
      "  _data = np.array(data, dtype=dtype, copy=copy,\n"
     ]
    },
    {
     "name": "stdout",
     "output_type": "stream",
     "text": [
      "{'poly__degree': 2, 'reg__alpha': 1000, 'rfe__n_features_to_select': 40}\n",
      "-10.280590746192692\n",
      "Pipeline(steps=[('scaler', StandardScaler()),\n",
      "                ('rfe', RFE(estimator=Ridge(), n_features_to_select=40)),\n",
      "                ('poly', PolynomialFeatures()), ('reg', Ridge(alpha=1000))])\n"
     ]
    }
   ],
   "source": [
    "import numpy as np\n",
    "from sklearn.model_selection import GridSearchCV\n",
    "from sklearn.pipeline import Pipeline\n",
    "from sklearn.feature_selection import RFE\n",
    "from sklearn.preprocessing import PolynomialFeatures\n",
    "from sklearn.linear_model import Ridge\n",
    "\n",
    "pipe = Pipeline([\n",
    "    ('scaler', StandardScaler()),\n",
    "    ('rfe', RFE(Ridge())),\n",
    "    ('poly', PolynomialFeatures()),\n",
    "    ('reg', Ridge())\n",
    "])\n",
    "\n",
    "param_grid = {\n",
    "    'rfe__n_features_to_select': np.linspace(10, X.shape[1]+1, 10).astype(int),\n",
    "    'poly__degree': [2, 3],\n",
    "    'reg__alpha': [1, 10, 100, 1000]\n",
    "}\n",
    "\n",
    "grid = GridSearchCV(pipe, param_grid, cv=5, scoring='neg_root_mean_squared_error', verbose=10, n_jobs=-1)\n",
    "grid.fit(X, y)  \n",
    "\n",
    "print(grid.best_params_)\n",
    "print(grid.best_score_)\n",
    "print(grid.best_estimator_)"
   ]
  },
  {
   "cell_type": "code",
   "execution_count": 12,
   "metadata": {},
   "outputs": [
    {
     "name": "stdout",
     "output_type": "stream",
     "text": [
      "Selected features: Index(['gender', 'mean_pitch', 'jitter', 'shimmer', 'energy', 'zcr_mean',\n",
      "       'hnr', 'silence_duration', 'MFCC-1-95', 'MFCC-2-95', 'MFCC-4-95',\n",
      "       'MFCC-9-95', 'MFCC-11-95', 'MFCC-1-5', 'MFCC-2-5', 'MFCC-4-5',\n",
      "       'MFCC-5-5', 'MFCC-6-5', 'MFCC-7-5', 'MFCC-8-5', 'MFCC-12-5',\n",
      "       'MFCC-1-50', 'MFCC-2-50', 'MFCC-4-50', 'MFCC-5-50', 'MFCC-6-50',\n",
      "       'MFCC-12-50', 'MFDD-1-95', 'MFDD-2-95', 'MFDD-3-95', 'MFDD-4-95',\n",
      "       'MFDD-5-95', 'MFDD-10-95', 'MFDD-1-5', 'MFDD-2-5', 'MFDD-4-5',\n",
      "       'MFDD-5-5', 'mean_silence', 'silence_ratio', 'wps'],\n",
      "      dtype='object')\n"
     ]
    }
   ],
   "source": [
    "rfe = grid.best_estimator_.named_steps['rfe']\n",
    "selected_features_indices = rfe.get_support(indices=True)\n",
    "selected_features = X.columns[selected_features_indices]\n",
    "print(\"Selected features:\", selected_features)"
   ]
  },
  {
   "cell_type": "code",
   "execution_count": 13,
   "metadata": {},
   "outputs": [],
   "source": [
    "reg = grid.best_estimator_\n",
    "reg.fit(X, y)\n",
    "y_pred = reg.predict(df_eval)\n",
    "\n",
    "df_out = pd.DataFrame(y_pred, index=df_eval.index, columns=['Predicted'])\n",
    "df_out.to_csv('out/ridge.csv')"
   ]
  },
  {
   "cell_type": "markdown",
   "metadata": {},
   "source": [
    "**Score**: 9.561"
   ]
  }
 ],
 "metadata": {
  "kernelspec": {
   "display_name": "dsl",
   "language": "python",
   "name": "python3"
  },
  "language_info": {
   "codemirror_mode": {
    "name": "ipython",
    "version": 3
   },
   "file_extension": ".py",
   "mimetype": "text/x-python",
   "name": "python",
   "nbconvert_exporter": "python",
   "pygments_lexer": "ipython3",
   "version": "3.12.7"
  }
 },
 "nbformat": 4,
 "nbformat_minor": 2
}
