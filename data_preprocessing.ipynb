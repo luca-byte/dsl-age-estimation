{
 "cells": [
  {
   "cell_type": "code",
   "execution_count": null,
   "metadata": {},
   "outputs": [],
   "source": [
    "import numpy as np\n",
    "import matplotlib.pyplot as plt\n",
    "import pandas as pd\n",
    "import librosa\n",
    "import seaborn as sns\n",
    "from tqdm.auto import tqdm"
   ]
  },
  {
   "cell_type": "code",
   "execution_count": 1,
   "metadata": {},
   "outputs": [
    {
     "data": {
      "text/html": [
       "<div>\n",
       "<style scoped>\n",
       "    .dataframe tbody tr th:only-of-type {\n",
       "        vertical-align: middle;\n",
       "    }\n",
       "\n",
       "    .dataframe tbody tr th {\n",
       "        vertical-align: top;\n",
       "    }\n",
       "\n",
       "    .dataframe thead th {\n",
       "        text-align: right;\n",
       "    }\n",
       "</style>\n",
       "<table border=\"1\" class=\"dataframe\">\n",
       "  <thead>\n",
       "    <tr style=\"text-align: right;\">\n",
       "      <th></th>\n",
       "      <th>age</th>\n",
       "      <th>gender</th>\n",
       "      <th>ethnicity</th>\n",
       "      <th>mean_pitch</th>\n",
       "      <th>max_pitch</th>\n",
       "      <th>min_pitch</th>\n",
       "      <th>jitter</th>\n",
       "      <th>shimmer</th>\n",
       "      <th>energy</th>\n",
       "      <th>zcr_mean</th>\n",
       "      <th>spectral_centroid_mean</th>\n",
       "      <th>tempo</th>\n",
       "      <th>hnr</th>\n",
       "      <th>num_words</th>\n",
       "      <th>num_characters</th>\n",
       "      <th>num_pauses</th>\n",
       "      <th>silence_duration</th>\n",
       "    </tr>\n",
       "    <tr>\n",
       "      <th>Id</th>\n",
       "      <th></th>\n",
       "      <th></th>\n",
       "      <th></th>\n",
       "      <th></th>\n",
       "      <th></th>\n",
       "      <th></th>\n",
       "      <th></th>\n",
       "      <th></th>\n",
       "      <th></th>\n",
       "      <th></th>\n",
       "      <th></th>\n",
       "      <th></th>\n",
       "      <th></th>\n",
       "      <th></th>\n",
       "      <th></th>\n",
       "      <th></th>\n",
       "      <th></th>\n",
       "    </tr>\n",
       "  </thead>\n",
       "  <tbody>\n",
       "    <tr>\n",
       "      <th>0</th>\n",
       "      <td>24.0</td>\n",
       "      <td>female</td>\n",
       "      <td>arabic</td>\n",
       "      <td>1821.6906</td>\n",
       "      <td>3999.7170</td>\n",
       "      <td>145.43066</td>\n",
       "      <td>0.013795</td>\n",
       "      <td>0.082725</td>\n",
       "      <td>0.002254</td>\n",
       "      <td>0.210093</td>\n",
       "      <td>3112.257251</td>\n",
       "      <td>151.999081</td>\n",
       "      <td>-123.999726</td>\n",
       "      <td>69</td>\n",
       "      <td>281</td>\n",
       "      <td>39</td>\n",
       "      <td>23.846893</td>\n",
       "    </tr>\n",
       "    <tr>\n",
       "      <th>1</th>\n",
       "      <td>22.5</td>\n",
       "      <td>female</td>\n",
       "      <td>hungarian</td>\n",
       "      <td>1297.8187</td>\n",
       "      <td>3998.8590</td>\n",
       "      <td>145.37268</td>\n",
       "      <td>0.025349</td>\n",
       "      <td>0.096242</td>\n",
       "      <td>0.007819</td>\n",
       "      <td>0.078849</td>\n",
       "      <td>1688.016389</td>\n",
       "      <td>129.199219</td>\n",
       "      <td>-86.928478</td>\n",
       "      <td>69</td>\n",
       "      <td>281</td>\n",
       "      <td>21</td>\n",
       "      <td>19.388662</td>\n",
       "    </tr>\n",
       "    <tr>\n",
       "      <th>2</th>\n",
       "      <td>22.0</td>\n",
       "      <td>female</td>\n",
       "      <td>portuguese</td>\n",
       "      <td>1332.8524</td>\n",
       "      <td>3998.8025</td>\n",
       "      <td>145.42395</td>\n",
       "      <td>0.019067</td>\n",
       "      <td>0.119456</td>\n",
       "      <td>0.002974</td>\n",
       "      <td>0.105365</td>\n",
       "      <td>2576.901706</td>\n",
       "      <td>117.453835</td>\n",
       "      <td>-98.450670</td>\n",
       "      <td>69</td>\n",
       "      <td>281</td>\n",
       "      <td>1</td>\n",
       "      <td>21.640998</td>\n",
       "    </tr>\n",
       "    <tr>\n",
       "      <th>3</th>\n",
       "      <td>22.0</td>\n",
       "      <td>female</td>\n",
       "      <td>english</td>\n",
       "      <td>1430.3499</td>\n",
       "      <td>3998.4510</td>\n",
       "      <td>147.98083</td>\n",
       "      <td>0.017004</td>\n",
       "      <td>0.102389</td>\n",
       "      <td>0.022371</td>\n",
       "      <td>0.173701</td>\n",
       "      <td>3269.751413</td>\n",
       "      <td>117.453835</td>\n",
       "      <td>-56.459762</td>\n",
       "      <td>69</td>\n",
       "      <td>281</td>\n",
       "      <td>9</td>\n",
       "      <td>19.644127</td>\n",
       "    </tr>\n",
       "    <tr>\n",
       "      <th>4</th>\n",
       "      <td>22.0</td>\n",
       "      <td>male</td>\n",
       "      <td>dutch</td>\n",
       "      <td>1688.7234</td>\n",
       "      <td>3998.6113</td>\n",
       "      <td>145.44772</td>\n",
       "      <td>0.028027</td>\n",
       "      <td>0.124831</td>\n",
       "      <td>0.005369</td>\n",
       "      <td>0.107279</td>\n",
       "      <td>1930.897375</td>\n",
       "      <td>112.347147</td>\n",
       "      <td>-80.349204</td>\n",
       "      <td>69</td>\n",
       "      <td>281</td>\n",
       "      <td>11</td>\n",
       "      <td>18.041905</td>\n",
       "    </tr>\n",
       "  </tbody>\n",
       "</table>\n",
       "</div>"
      ],
      "text/plain": [
       "     age  gender   ethnicity  mean_pitch  max_pitch  min_pitch    jitter  \\\n",
       "Id                                                                         \n",
       "0   24.0  female      arabic   1821.6906  3999.7170  145.43066  0.013795   \n",
       "1   22.5  female   hungarian   1297.8187  3998.8590  145.37268  0.025349   \n",
       "2   22.0  female  portuguese   1332.8524  3998.8025  145.42395  0.019067   \n",
       "3   22.0  female     english   1430.3499  3998.4510  147.98083  0.017004   \n",
       "4   22.0    male       dutch   1688.7234  3998.6113  145.44772  0.028027   \n",
       "\n",
       "     shimmer    energy  zcr_mean  spectral_centroid_mean       tempo  \\\n",
       "Id                                                                     \n",
       "0   0.082725  0.002254  0.210093             3112.257251  151.999081   \n",
       "1   0.096242  0.007819  0.078849             1688.016389  129.199219   \n",
       "2   0.119456  0.002974  0.105365             2576.901706  117.453835   \n",
       "3   0.102389  0.022371  0.173701             3269.751413  117.453835   \n",
       "4   0.124831  0.005369  0.107279             1930.897375  112.347147   \n",
       "\n",
       "           hnr  num_words  num_characters  num_pauses  silence_duration  \n",
       "Id                                                                       \n",
       "0  -123.999726         69             281          39         23.846893  \n",
       "1   -86.928478         69             281          21         19.388662  \n",
       "2   -98.450670         69             281           1         21.640998  \n",
       "3   -56.459762         69             281           9         19.644127  \n",
       "4   -80.349204         69             281          11         18.041905  "
      ]
     },
     "execution_count": 1,
     "metadata": {},
     "output_type": "execute_result"
    }
   ],
   "source": [
    "df_dev = pd.read_csv('data/development.csv').set_index('Id')\n",
    "df_eval = pd.read_csv('data/evaluation.csv').set_index('Id')\n",
    "\n",
    "# We drop the sampling rate, which is the same value for all samples\n",
    "# We drop the path, which is not useful for the regression task\n",
    "df_dev.drop(['sampling_rate', 'path'], axis=1, inplace=True)\n",
    "df_eval.drop(['sampling_rate', 'path'], axis=1, inplace=True)\n",
    "\n",
    "# We convert the tempo to the float data type from the format '[float]'\n",
    "df_dev['tempo'] = df_dev['tempo'].apply(lambda x: x.replace('[', '').replace(']', '')).astype('float')\n",
    "df_eval['tempo'] = df_eval['tempo'].apply(lambda x: x.replace('[', '').replace(']', '')).astype('float')\n",
    "\n",
    "df_dev.head()"
   ]
  },
  {
   "cell_type": "markdown",
   "metadata": {},
   "source": [
    "Plot age distribution"
   ]
  },
  {
   "cell_type": "code",
   "execution_count": 74,
   "metadata": {},
   "outputs": [
    {
     "data": {
      "image/png": "[encoded data removed]",
      "text/plain": [
       "<Figure size 640x480 with 1 Axes>"
      ]
     },
     "metadata": {},
     "output_type": "display_data"
    }
   ],
   "source": [
    "fig, ax = plt.subplots()\n",
    "ax.hist(df_dev[\"age\"], bins=range(5,int((max(df_dev[\"age\"])+5)),5), label=\"Development\")\n",
    "ax.set_xticks(range(5,int((max(df_dev[\"age\"])+5)),5))\n",
    "ax.set_title(\"Age distribution in development set\")\n",
    "ax.set_xlabel(\"Age\")\n",
    "ax.set_ylabel(\"Count\")\n",
    "ax.grid(alpha=0.2)"
   ]
  },
  {
   "cell_type": "markdown",
   "metadata": {},
   "source": [
    "Ethnicity distribution"
   ]
  },
  {
   "cell_type": "code",
   "execution_count": 3,
   "metadata": {},
   "outputs": [
    {
     "name": "stdout",
     "output_type": "stream",
     "text": [
      "Number of ethnicities in development set: 165\n",
      "Number of ethnicities in evaluation set: 73\n",
      "Number of ethnicities in both sets: 17\n",
      "{'annang', 'nigerian', 'hausa', 'yoruba', 'indian', 'igbo', 'ibibio', 'ijaw', 'kanuri', 'ukwani', 'afemai', 'cameroonian', 'urhobo', 'congolese', 'ikwerre', 'satawalese', 'igala'}\n"
     ]
    }
   ],
   "source": [
    "# Ethnicities in development set\n",
    "set1 = set(df_dev[\"ethnicity\"])\n",
    "set2 = set(df_eval[\"ethnicity\"])\n",
    "set1.intersection(set2)\n",
    "print(f\"Number of ethnicities in development set: {len(set1)}\")\n",
    "print(f\"Number of ethnicities in evaluation set: {len(set2)}\")\n",
    "print(f\"Number of ethnicities in both sets: {len(set1.intersection(set2))}\")\n",
    "print(set1.intersection(set2))"
   ]
  },
  {
   "cell_type": "code",
   "execution_count": 4,
   "metadata": {},
   "outputs": [],
   "source": [
    "df_dev.drop(columns=['ethnicity'], inplace=True)\n",
    "df_eval.drop(columns=['ethnicity'], inplace=True)"
   ]
  },
  {
   "cell_type": "markdown",
   "metadata": {},
   "source": [
    "Gender"
   ]
  },
  {
   "cell_type": "code",
   "execution_count": 5,
   "metadata": {},
   "outputs": [],
   "source": [
    "gender =  {'male': 1, 'female': 0, \"famale\": 0}"
   ]
  },
  {
   "cell_type": "code",
   "execution_count": null,
   "metadata": {},
   "outputs": [
    {
     "data": {
      "image/png": "[encoded data removed]",
      "text/plain": [
       "<Figure size 640x480 with 1 Axes>"
      ]
     },
     "metadata": {},
     "output_type": "display_data"
    }
   ],
   "source": [
    "# Calculate the value counts for gender in both datasets\n",
    "gender_dev_counts = df_dev[\"gender\"].value_counts(normalize=True)\n",
    "gender_eval_counts = df_eval[\"gender\"].value_counts(normalize=True)\n",
    "\n",
    "# Combine the counts into a single DataFrame\n",
    "gender_counts = pd.DataFrame({\n",
    "    'Development': gender_dev_counts,\n",
    "    'Evaluation': gender_eval_counts\n",
    "}).fillna(0)\n",
    "\n",
    "# Plot the gender distribution\n",
    "gender_counts.plot(kind='bar')\n",
    "plt.title(\"Gender distribution (Normalized)\")\n",
    "plt.xlabel(\"Gender\")\n",
    "plt.ylabel(\"Proportion\")\n",
    "plt.legend()\n",
    "plt.grid(alpha=0.2, axis=\"y\")\n",
    "plt.show()\n"
   ]
  },
  {
   "cell_type": "code",
   "execution_count": 7,
   "metadata": {},
   "outputs": [],
   "source": [
    "# We encode the gender using dummy encoding\n",
    "df_dev['gender'] = df_dev['gender'].map(gender)\n",
    "df_eval['gender'] = df_eval['gender'].map(gender)"
   ]
  },
  {
   "cell_type": "code",
   "execution_count": 8,
   "metadata": {},
   "outputs": [],
   "source": [
    "def extract_audio_features(dataset: str, index: int, n_mfcc: int = 13) -> dict:\n",
    "    \"\"\"\n",
    "    Extracts the audio features from the given folder and index.\n",
    "    \"\"\"\n",
    "\n",
    "    # Load the audio file\n",
    "    audio_path = f'data/audios_{dataset}/{index+1}.wav'\n",
    "    y, sr = librosa.load(audio_path, sr=None)\n",
    "\n",
    "    # Extract the features\n",
    "    mfcc = librosa.feature.mfcc(y=y, sr=sr, n_mfcc=n_mfcc)\n",
    "    mfcc_d = librosa.feature.delta(mfcc)\n",
    "\n",
    "\n",
    "    mfcc = np.percentile(mfcc, [5, 50, 95], axis=1) \n",
    "    mfcc_d = np.percentile(mfcc_d, [5, 50, 95], axis=1)\n",
    "\n",
    "    d = {f\"MFCC-{el+1}-5\": mfcc[0][el] for el in range(n_mfcc)}\n",
    "    d |= {f\"MFCC-{el+1}-50\": mfcc[1][el] for el in range(n_mfcc)}\n",
    "    d |= {f\"MFCC-{el+1}-95\": mfcc[2][el] for el in range(n_mfcc)}\n",
    "    d |= {f\"MFCCD-{el+1}-5\": mfcc_d[0][el] for el in range(n_mfcc)}\n",
    "    d |= {f\"MFCCD-{el+1}-50\": mfcc_d[1][el] for el in range(n_mfcc)}\n",
    "    d |= {f\"MFCCD-{el+1}-95\": mfcc_d[2][el] for el in range(n_mfcc)}\n",
    "\n",
    "    features = {\n",
    "        'Id': index,\n",
    "        'duration': librosa.get_duration(y=y, sr=sr),\n",
    "        'spectral_bandwidth': librosa.feature.spectral_bandwidth(y=y, sr=sr).mean(axis=1).item(),\n",
    "        'spectral_rolloff': librosa.feature.spectral_rolloff(y=y, sr=sr).mean(axis=1).item(),\n",
    "        'sampling_rate': sr,\n",
    "        **d\n",
    "    }\n",
    "    \n",
    "    return features\n"
   ]
  },
  {
   "cell_type": "code",
   "execution_count": null,
   "metadata": {},
   "outputs": [],
   "source": [
    "ll = []\n",
    "for index in tqdm(df_dev.index):\n",
    "    features = extract_audio_features('development', index)\n",
    "    ll.append(features)\n",
    "audio_dev = pd.DataFrame(ll).set_index('Id').sort_index()\n",
    "\n",
    "ll = []\n",
    "for index in tqdm(df_eval.index):\n",
    "    features = extract_audio_features('evaluation', index)\n",
    "    ll.append(features)\n",
    "audio_eval = pd.DataFrame(ll).set_index('Id').sort_index()"
   ]
  },
  {
   "cell_type": "code",
   "execution_count": 9,
   "metadata": {},
   "outputs": [],
   "source": [
    "df_dev = pd.concat([df_dev, audio_dev], axis=1)\n",
    "df_eval = pd.concat([df_eval, audio_eval], axis=1)"
   ]
  },
  {
   "cell_type": "markdown",
   "metadata": {},
   "source": [
    "Sampling rate distribution"
   ]
  },
  {
   "cell_type": "code",
   "execution_count": null,
   "metadata": {},
   "outputs": [
    {
     "ename": "KeyError",
     "evalue": "'sampling_rate'",
     "output_type": "error",
     "traceback": [
      "\u001b[1;31m---------------------------------------------------------------------------\u001b[0m",
      "\u001b[1;31mKeyError\u001b[0m                                  Traceback (most recent call last)",
      "File \u001b[1;32mc:\\Users\\lucad\\miniforge3\\envs\\dsl\\Lib\\site-packages\\pandas\\core\\indexes\\base.py:3805\u001b[0m, in \u001b[0;36mIndex.get_loc\u001b[1;34m(self, key)\u001b[0m\n\u001b[0;32m   3804\u001b[0m \u001b[38;5;28;01mtry\u001b[39;00m:\n\u001b[1;32m-> 3805\u001b[0m     \u001b[38;5;28;01mreturn\u001b[39;00m \u001b[38;5;28mself\u001b[39m\u001b[38;5;241m.\u001b[39m_engine\u001b[38;5;241m.\u001b[39mget_loc(casted_key)\n\u001b[0;32m   3806\u001b[0m \u001b[38;5;28;01mexcept\u001b[39;00m \u001b[38;5;167;01mKeyError\u001b[39;00m \u001b[38;5;28;01mas\u001b[39;00m err:\n",
      "File \u001b[1;32mindex.pyx:167\u001b[0m, in \u001b[0;36mpandas._libs.index.IndexEngine.get_loc\u001b[1;34m()\u001b[0m\n",
      "File \u001b[1;32mindex.pyx:196\u001b[0m, in \u001b[0;36mpandas._libs.index.IndexEngine.get_loc\u001b[1;34m()\u001b[0m\n",
      "File \u001b[1;32mpandas\\\\_libs\\\\hashtable_class_helper.pxi:7081\u001b[0m, in \u001b[0;36mpandas._libs.hashtable.PyObjectHashTable.get_item\u001b[1;34m()\u001b[0m\n",
      "File \u001b[1;32mpandas\\\\_libs\\\\hashtable_class_helper.pxi:7089\u001b[0m, in \u001b[0;36mpandas._libs.hashtable.PyObjectHashTable.get_item\u001b[1;34m()\u001b[0m\n",
      "\u001b[1;31mKeyError\u001b[0m: 'sampling_rate'",
      "\nThe above exception was the direct cause of the following exception:\n",
      "\u001b[1;31mKeyError\u001b[0m                                  Traceback (most recent call last)",
      "Cell \u001b[1;32mIn[78], line 4\u001b[0m\n\u001b[0;32m      1\u001b[0m \u001b[38;5;28;01mfrom\u001b[39;00m \u001b[38;5;21;01mcollections\u001b[39;00m \u001b[38;5;28;01mimport\u001b[39;00m Counter\n\u001b[0;32m      3\u001b[0m \u001b[38;5;66;03m# Calculate the value counts for sampling_rate in both datasets\u001b[39;00m\n\u001b[1;32m----> 4\u001b[0m sampling_rate_dev_counts \u001b[38;5;241m=\u001b[39m df_dev[\u001b[38;5;124m\"\u001b[39m\u001b[38;5;124msampling_rate\u001b[39m\u001b[38;5;124m\"\u001b[39m]\u001b[38;5;241m.\u001b[39mvalue_counts(normalize\u001b[38;5;241m=\u001b[39m\u001b[38;5;28;01mTrue\u001b[39;00m)\n\u001b[0;32m      5\u001b[0m sampling_rate_eval_counts \u001b[38;5;241m=\u001b[39m df_eval[\u001b[38;5;124m\"\u001b[39m\u001b[38;5;124msampling_rate\u001b[39m\u001b[38;5;124m\"\u001b[39m]\u001b[38;5;241m.\u001b[39mvalue_counts(normalize\u001b[38;5;241m=\u001b[39m\u001b[38;5;28;01mTrue\u001b[39;00m)\n\u001b[0;32m      7\u001b[0m \u001b[38;5;66;03m# Combine the counts into a single DataFrame\u001b[39;00m\n",
      "File \u001b[1;32mc:\\Users\\lucad\\miniforge3\\envs\\dsl\\Lib\\site-packages\\pandas\\core\\frame.py:4102\u001b[0m, in \u001b[0;36mDataFrame.__getitem__\u001b[1;34m(self, key)\u001b[0m\n\u001b[0;32m   4100\u001b[0m \u001b[38;5;28;01mif\u001b[39;00m \u001b[38;5;28mself\u001b[39m\u001b[38;5;241m.\u001b[39mcolumns\u001b[38;5;241m.\u001b[39mnlevels \u001b[38;5;241m>\u001b[39m \u001b[38;5;241m1\u001b[39m:\n\u001b[0;32m   4101\u001b[0m     \u001b[38;5;28;01mreturn\u001b[39;00m \u001b[38;5;28mself\u001b[39m\u001b[38;5;241m.\u001b[39m_getitem_multilevel(key)\n\u001b[1;32m-> 4102\u001b[0m indexer \u001b[38;5;241m=\u001b[39m \u001b[38;5;28mself\u001b[39m\u001b[38;5;241m.\u001b[39mcolumns\u001b[38;5;241m.\u001b[39mget_loc(key)\n\u001b[0;32m   4103\u001b[0m \u001b[38;5;28;01mif\u001b[39;00m is_integer(indexer):\n\u001b[0;32m   4104\u001b[0m     indexer \u001b[38;5;241m=\u001b[39m [indexer]\n",
      "File \u001b[1;32mc:\\Users\\lucad\\miniforge3\\envs\\dsl\\Lib\\site-packages\\pandas\\core\\indexes\\base.py:3812\u001b[0m, in \u001b[0;36mIndex.get_loc\u001b[1;34m(self, key)\u001b[0m\n\u001b[0;32m   3807\u001b[0m     \u001b[38;5;28;01mif\u001b[39;00m \u001b[38;5;28misinstance\u001b[39m(casted_key, \u001b[38;5;28mslice\u001b[39m) \u001b[38;5;129;01mor\u001b[39;00m (\n\u001b[0;32m   3808\u001b[0m         \u001b[38;5;28misinstance\u001b[39m(casted_key, abc\u001b[38;5;241m.\u001b[39mIterable)\n\u001b[0;32m   3809\u001b[0m         \u001b[38;5;129;01mand\u001b[39;00m \u001b[38;5;28many\u001b[39m(\u001b[38;5;28misinstance\u001b[39m(x, \u001b[38;5;28mslice\u001b[39m) \u001b[38;5;28;01mfor\u001b[39;00m x \u001b[38;5;129;01min\u001b[39;00m casted_key)\n\u001b[0;32m   3810\u001b[0m     ):\n\u001b[0;32m   3811\u001b[0m         \u001b[38;5;28;01mraise\u001b[39;00m InvalidIndexError(key)\n\u001b[1;32m-> 3812\u001b[0m     \u001b[38;5;28;01mraise\u001b[39;00m \u001b[38;5;167;01mKeyError\u001b[39;00m(key) \u001b[38;5;28;01mfrom\u001b[39;00m \u001b[38;5;21;01merr\u001b[39;00m\n\u001b[0;32m   3813\u001b[0m \u001b[38;5;28;01mexcept\u001b[39;00m \u001b[38;5;167;01mTypeError\u001b[39;00m:\n\u001b[0;32m   3814\u001b[0m     \u001b[38;5;66;03m# If we have a listlike key, _check_indexing_error will raise\u001b[39;00m\n\u001b[0;32m   3815\u001b[0m     \u001b[38;5;66;03m#  InvalidIndexError. Otherwise we fall through and re-raise\u001b[39;00m\n\u001b[0;32m   3816\u001b[0m     \u001b[38;5;66;03m#  the TypeError.\u001b[39;00m\n\u001b[0;32m   3817\u001b[0m     \u001b[38;5;28mself\u001b[39m\u001b[38;5;241m.\u001b[39m_check_indexing_error(key)\n",
      "\u001b[1;31mKeyError\u001b[0m: 'sampling_rate'"
     ]
    }
   ],
   "source": [
    "\n",
    "# Calculate the value counts for sampling_rate in both datasets\n",
    "sampling_rate_dev_counts = df_dev[\"sampling_rate\"].value_counts(normalize=True)\n",
    "sampling_rate_eval_counts = df_eval[\"sampling_rate\"].value_counts(normalize=True)\n",
    "\n",
    "# Combine the counts into a single DataFrame\n",
    "sampling_rate_counts = pd.DataFrame({\n",
    "    'Development': sampling_rate_dev_counts,\n",
    "    'Evaluation': sampling_rate_eval_counts\n",
    "}).fillna(0)\n",
    "\n",
    "# Plot the sampling rate distribution\n",
    "sampling_rate_counts.plot(kind='bar')\n",
    "plt.title(\"Sampling rate distribution (Normalized)\")\n",
    "plt.xlabel(\"Sampling Rate\")\n",
    "plt.ylabel(\"Proportion\")\n",
    "plt.legend()\n",
    "plt.grid(alpha=0.2, axis=\"y\")\n",
    "plt.show()\n"
   ]
  },
  {
   "cell_type": "code",
   "execution_count": null,
   "metadata": {},
   "outputs": [],
   "source": [
    "df_dev.drop(columns=['sampling_rate'], inplace=True)\n",
    "df_eval.drop(columns=['sampling_rate'], inplace=True)"
   ]
  },
  {
   "cell_type": "markdown",
   "metadata": {},
   "source": [
    "Num words distribution"
   ]
  },
  {
   "cell_type": "code",
   "execution_count": 139,
   "metadata": {},
   "outputs": [
    {
     "data": {
      "text/plain": [
       "Text(0.5, 0, 'Number of words')"
      ]
     },
     "execution_count": 139,
     "metadata": {},
     "output_type": "execute_result"
    },
    {
     "data": {
      "image/png": "[encoded data removed]",
      "text/plain": [
       "<Figure size 640x480 with 1 Axes>"
      ]
     },
     "metadata": {},
     "output_type": "display_data"
    }
   ],
   "source": [
    "words = pd.DataFrame({\n",
    "    'Development': df_dev[\"num_words\"],\n",
    "    'Evaluation': df_eval[\"num_words\"]\n",
    "})\n",
    "\n",
    "sns.histplot(words, multiple=\"layer\", stat=\"proportion\", common_norm=False)\n",
    "plt.title(\"Number of words distribution\")\n",
    "plt.xlabel(\"Number of words\")    "
   ]
  },
  {
   "cell_type": "code",
   "execution_count": 13,
   "metadata": {},
   "outputs": [],
   "source": [
    "df_dev['mean_silence'] = df_dev['silence_duration']/df_dev['num_pauses']\n",
    "df_dev['silence_ratio'] = df_dev['silence_duration']/df_dev['duration']\n",
    "df_dev['wps'] = df_dev['num_words']/df_dev['duration']\n",
    "\n",
    "df_eval['mean_silence'] = df_eval['silence_duration']/df_eval['num_pauses']\n",
    "df_eval['silence_ratio'] = df_eval['silence_duration']/df_eval['duration']\n",
    "df_eval['wps'] = df_eval['num_words']/df_eval['duration']"
   ]
  },
  {
   "cell_type": "code",
   "execution_count": 15,
   "metadata": {},
   "outputs": [],
   "source": [
    "df_dev.to_csv('data/development_processed.csv')\n",
    "df_eval.to_csv('data/evaluation_processed.csv')"
   ]
  }
 ],
 "metadata": {
  "kernelspec": {
   "display_name": "DataScienceLabLabs",
   "language": "python",
   "name": "python3"
  },
  "language_info": {
   "codemirror_mode": {
    "name": "ipython",
    "version": 3
   },
   "file_extension": ".py",
   "mimetype": "text/x-python",
   "name": "python",
   "nbconvert_exporter": "python",
   "pygments_lexer": "ipython3",
   "version": "3.12.7"
  }
 },
 "nbformat": 4,
 "nbformat_minor": 2
}
