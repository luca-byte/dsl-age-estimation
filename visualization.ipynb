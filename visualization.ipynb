{
 "cells": [
  {
   "cell_type": "code",
   "execution_count": null,
   "metadata": {
    "vscode": {
     "languageId": "plaintext"
    }
   },
   "outputs": [],
   "source": [
    "import matplotlib.pyplot as plt\n",
    "df['min_pitch'].plot(kind='kde')\n",
    "df['min_pitch'].kurt(),  (df['min_pitch']/ df['min_pitch'].max()).std()\n",
    "plt.figure()\n",
    "df['min_pitch'].plot(kind='box')\n",
    "\n",
    "df['max_pitch'].plot(kind='kde')\n",
    "\n",
    "df['max_pitch'].kurt(), (df['max_pitch']/ df['max_pitch'].max()).std()\n",
    "plt.figure()\n",
    "df['max_pitch'].plot(kind='box')"
   ]
  }
 ],
 "metadata": {
  "language_info": {
   "name": "python"
  }
 },
 "nbformat": 4,
 "nbformat_minor": 2
}
